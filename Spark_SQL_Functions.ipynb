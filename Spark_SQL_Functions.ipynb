{
  "nbformat": 4,
  "nbformat_minor": 0,
  "metadata": {
    "colab": {
      "provenance": []
    },
    "kernelspec": {
      "name": "python3",
      "display_name": "Python 3"
    },
    "language_info": {
      "name": "python"
    }
  },
  "cells": [
    {
      "cell_type": "code",
      "source": [
        "pip install pyspark"
      ],
      "metadata": {
        "colab": {
          "base_uri": "https://localhost:8080/"
        },
        "id": "XV7sY9nOplNe",
        "outputId": "6b6b3bce-557b-40f4-e796-deba90fee397"
      },
      "execution_count": 1,
      "outputs": [
        {
          "output_type": "stream",
          "name": "stdout",
          "text": [
            "Collecting pyspark\n",
            "  Downloading pyspark-3.5.2.tar.gz (317.3 MB)\n",
            "\u001b[2K     \u001b[90m━━━━━━━━━━━━━━━━━━━━━━━━━━━━━━━━━━━━━━━━\u001b[0m \u001b[32m317.3/317.3 MB\u001b[0m \u001b[31m4.6 MB/s\u001b[0m eta \u001b[36m0:00:00\u001b[0m\n",
            "\u001b[?25h  Preparing metadata (setup.py) ... \u001b[?25l\u001b[?25hdone\n",
            "Requirement already satisfied: py4j==0.10.9.7 in /usr/local/lib/python3.10/dist-packages (from pyspark) (0.10.9.7)\n",
            "Building wheels for collected packages: pyspark\n",
            "  Building wheel for pyspark (setup.py) ... \u001b[?25l\u001b[?25hdone\n",
            "  Created wheel for pyspark: filename=pyspark-3.5.2-py2.py3-none-any.whl size=317812365 sha256=45732f628cba148d4422d8368d5b24ea284841299ffc04706390ac8e882e3b2e\n",
            "  Stored in directory: /root/.cache/pip/wheels/34/34/bd/03944534c44b677cd5859f248090daa9fb27b3c8f8e5f49574\n",
            "Successfully built pyspark\n",
            "Installing collected packages: pyspark\n",
            "Successfully installed pyspark-3.5.2\n"
          ]
        }
      ]
    },
    {
      "cell_type": "code",
      "execution_count": 2,
      "metadata": {
        "id": "PeaWMO64pXCq"
      },
      "outputs": [],
      "source": [
        "#Create Sample Data\n",
        "\n",
        "from pyspark.sql import SparkSession\n",
        "from pyspark.sql.functions import lit\n",
        "from datetime import datetime\n",
        "\n"
      ]
    },
    {
      "cell_type": "code",
      "source": [
        "# Initialize Spark session\n",
        "spark = SparkSession.builder.appName(\"PySparkSQLFunctions\").getOrCreate()\n"
      ],
      "metadata": {
        "id": "0pU_t_Jmpx8w"
      },
      "execution_count": 3,
      "outputs": []
    },
    {
      "cell_type": "code",
      "source": [
        "spark"
      ],
      "metadata": {
        "colab": {
          "base_uri": "https://localhost:8080/",
          "height": 219
        },
        "id": "H4v0g9U-p0Xz",
        "outputId": "7db61619-fb34-4f2a-8ede-aa2fc4623551"
      },
      "execution_count": 4,
      "outputs": [
        {
          "output_type": "execute_result",
          "data": {
            "text/plain": [
              "<pyspark.sql.session.SparkSession at 0x781f44a66bc0>"
            ],
            "text/html": [
              "\n",
              "            <div>\n",
              "                <p><b>SparkSession - in-memory</b></p>\n",
              "                \n",
              "        <div>\n",
              "            <p><b>SparkContext</b></p>\n",
              "\n",
              "            <p><a href=\"http://c9d8e38b5d35:4040\">Spark UI</a></p>\n",
              "\n",
              "            <dl>\n",
              "              <dt>Version</dt>\n",
              "                <dd><code>v3.5.2</code></dd>\n",
              "              <dt>Master</dt>\n",
              "                <dd><code>local[*]</code></dd>\n",
              "              <dt>AppName</dt>\n",
              "                <dd><code>PySparkSQLFunctions</code></dd>\n",
              "            </dl>\n",
              "        </div>\n",
              "        \n",
              "            </div>\n",
              "        "
            ]
          },
          "metadata": {},
          "execution_count": 4
        }
      ]
    },
    {
      "cell_type": "code",
      "source": [
        "# Sample Data\n",
        "data = [\n",
        "    (1, \"John Doe\", \"2024-08-01\", 23, 1000.50),\n",
        "    (2, \"Jane Smith\", \"2024-08-02\", 34, 2000.75),\n",
        "    (3, \"Jake White\", \"2024-08-03\", 18, 3000.10),\n",
        "    (4, \"Jill Black\", \"2024-08-04\", 45, 4000.25),\n",
        "    (5, \"James Brown\", \"2024-08-05\", 29, 1500.30),\n",
        "    (6, \"Madhav Mishra\", \"2024-08-06\", 31, 2500.45),\n",
        "\n",
        "]\n",
        "\n"
      ],
      "metadata": {
        "id": "UD-uLB3np0z6"
      },
      "execution_count": 5,
      "outputs": []
    },
    {
      "cell_type": "code",
      "source": [
        "# Create DataFrame\n",
        "columns = [\"id\", \"name\", \"dob\", \"age\", \"salary\"]\n",
        "df = spark.createDataFrame(data, columns)\n",
        "\n",
        "# Show the initial DataFrame\n",
        "df.show()"
      ],
      "metadata": {
        "colab": {
          "base_uri": "https://localhost:8080/"
        },
        "id": "E57myZ9ip7GX",
        "outputId": "ad77c8a3-3bf7-442c-8e34-0dafff6c45dd"
      },
      "execution_count": 6,
      "outputs": [
        {
          "output_type": "stream",
          "name": "stdout",
          "text": [
            "+---+-------------+----------+---+-------+\n",
            "| id|         name|       dob|age| salary|\n",
            "+---+-------------+----------+---+-------+\n",
            "|  1|     John Doe|2024-08-01| 23| 1000.5|\n",
            "|  2|   Jane Smith|2024-08-02| 34|2000.75|\n",
            "|  3|   Jake White|2024-08-03| 18| 3000.1|\n",
            "|  4|   Jill Black|2024-08-04| 45|4000.25|\n",
            "|  5|  James Brown|2024-08-05| 29| 1500.3|\n",
            "|  6|Madhav Mishra|2024-08-06| 31|2500.45|\n",
            "+---+-------------+----------+---+-------+\n",
            "\n"
          ]
        }
      ]
    },
    {
      "cell_type": "code",
      "source": [
        "#col\n",
        "#Selects the \"name\" column.\n",
        "\n",
        "from pyspark.sql.functions import col\n",
        "\n",
        "df.select(col(\"name\")).show()\n"
      ],
      "metadata": {
        "colab": {
          "base_uri": "https://localhost:8080/"
        },
        "id": "w1j2wlBkp8g_",
        "outputId": "60e9b129-65ff-4e38-88cb-86ab4ee6b9b4"
      },
      "execution_count": 7,
      "outputs": [
        {
          "output_type": "stream",
          "name": "stdout",
          "text": [
            "+-------------+\n",
            "|         name|\n",
            "+-------------+\n",
            "|     John Doe|\n",
            "|   Jane Smith|\n",
            "|   Jake White|\n",
            "|   Jill Black|\n",
            "|  James Brown|\n",
            "|Madhav Mishra|\n",
            "+-------------+\n",
            "\n"
          ]
        }
      ]
    },
    {
      "cell_type": "code",
      "source": [
        "#lit\n",
        "#Adds a new column with a literal value.\n",
        "\n",
        "df_country = df.withColumn(\"country\", lit(\"USA\"))\n",
        "df_country.show()"
      ],
      "metadata": {
        "colab": {
          "base_uri": "https://localhost:8080/"
        },
        "id": "0NokZZaQqL1y",
        "outputId": "60363bb5-ca38-4eed-c10d-015dadbadffa"
      },
      "execution_count": 8,
      "outputs": [
        {
          "output_type": "stream",
          "name": "stdout",
          "text": [
            "+---+-------------+----------+---+-------+-------+\n",
            "| id|         name|       dob|age| salary|country|\n",
            "+---+-------------+----------+---+-------+-------+\n",
            "|  1|     John Doe|2024-08-01| 23| 1000.5|    USA|\n",
            "|  2|   Jane Smith|2024-08-02| 34|2000.75|    USA|\n",
            "|  3|   Jake White|2024-08-03| 18| 3000.1|    USA|\n",
            "|  4|   Jill Black|2024-08-04| 45|4000.25|    USA|\n",
            "|  5|  James Brown|2024-08-05| 29| 1500.3|    USA|\n",
            "|  6|Madhav Mishra|2024-08-06| 31|2500.45|    USA|\n",
            "+---+-------------+----------+---+-------+-------+\n",
            "\n"
          ]
        }
      ]
    },
    {
      "cell_type": "code",
      "source": [
        "df.show()\n",
        "#df.show()"
      ],
      "metadata": {
        "colab": {
          "base_uri": "https://localhost:8080/"
        },
        "id": "ot2Qnz97qS_9",
        "outputId": "bb678a72-dbfc-40e1-f06c-0d08cb91fb3f"
      },
      "execution_count": 9,
      "outputs": [
        {
          "output_type": "stream",
          "name": "stdout",
          "text": [
            "+---+-------------+----------+---+-------+\n",
            "| id|         name|       dob|age| salary|\n",
            "+---+-------------+----------+---+-------+\n",
            "|  1|     John Doe|2024-08-01| 23| 1000.5|\n",
            "|  2|   Jane Smith|2024-08-02| 34|2000.75|\n",
            "|  3|   Jake White|2024-08-03| 18| 3000.1|\n",
            "|  4|   Jill Black|2024-08-04| 45|4000.25|\n",
            "|  5|  James Brown|2024-08-05| 29| 1500.3|\n",
            "|  6|Madhav Mishra|2024-08-06| 31|2500.45|\n",
            "+---+-------------+----------+---+-------+\n",
            "\n"
          ]
        }
      ]
    },
    {
      "cell_type": "code",
      "source": [
        "#expr\n",
        "#Adds 5 to the \"age\" column.\n",
        "\n",
        "from pyspark.sql.functions import expr\n",
        "\n",
        "df_age = df.withColumn(\"age_plus_5\", expr(\"age + 5\"))\n",
        "df_age.show()"
      ],
      "metadata": {
        "colab": {
          "base_uri": "https://localhost:8080/"
        },
        "id": "g7CI9_dxqc6L",
        "outputId": "f66928b4-acd0-4425-d26d-571eb2ee6786"
      },
      "execution_count": 10,
      "outputs": [
        {
          "output_type": "stream",
          "name": "stdout",
          "text": [
            "+---+-------------+----------+---+-------+----------+\n",
            "| id|         name|       dob|age| salary|age_plus_5|\n",
            "+---+-------------+----------+---+-------+----------+\n",
            "|  1|     John Doe|2024-08-01| 23| 1000.5|        28|\n",
            "|  2|   Jane Smith|2024-08-02| 34|2000.75|        39|\n",
            "|  3|   Jake White|2024-08-03| 18| 3000.1|        23|\n",
            "|  4|   Jill Black|2024-08-04| 45|4000.25|        50|\n",
            "|  5|  James Brown|2024-08-05| 29| 1500.3|        34|\n",
            "|  6|Madhav Mishra|2024-08-06| 31|2500.45|        36|\n",
            "+---+-------------+----------+---+-------+----------+\n",
            "\n"
          ]
        }
      ]
    },
    {
      "cell_type": "code",
      "source": [
        "#when\n",
        "#Classifies people as \"Adult\" or \"Minor\".\n",
        "\n",
        "from pyspark.sql.functions import when\n",
        "\n",
        "df_classification = df.withColumn(\"classification\", when(col(\"age\") >= 18, \"Adult\").otherwise(\"Minor\"))\n",
        "df_classification.show()\n",
        "\n",
        "#from pyspark.sql.functions import when\n",
        "\n",
        "#df.withColumn(\"status\", when(col(\"age\") > 18, \"Adult\").otherwise(\"Minor\")).show()\n"
      ],
      "metadata": {
        "colab": {
          "base_uri": "https://localhost:8080/"
        },
        "id": "NkW5nUEQrETc",
        "outputId": "d190aba1-ca9d-40e0-9b62-fd7e26b850ee"
      },
      "execution_count": 11,
      "outputs": [
        {
          "output_type": "stream",
          "name": "stdout",
          "text": [
            "+---+-------------+----------+---+-------+--------------+\n",
            "| id|         name|       dob|age| salary|classification|\n",
            "+---+-------------+----------+---+-------+--------------+\n",
            "|  1|     John Doe|2024-08-01| 23| 1000.5|         Adult|\n",
            "|  2|   Jane Smith|2024-08-02| 34|2000.75|         Adult|\n",
            "|  3|   Jake White|2024-08-03| 18| 3000.1|         Adult|\n",
            "|  4|   Jill Black|2024-08-04| 45|4000.25|         Adult|\n",
            "|  5|  James Brown|2024-08-05| 29| 1500.3|         Adult|\n",
            "|  6|Madhav Mishra|2024-08-06| 31|2500.45|         Adult|\n",
            "+---+-------------+----------+---+-------+--------------+\n",
            "\n"
          ]
        }
      ]
    },
    {
      "cell_type": "code",
      "source": [
        "#concat\n",
        "#Concatenates first and last names with a space.\n",
        "\n",
        "from pyspark.sql.functions import concat\n",
        "\n",
        "df_concat = df.withColumn(\"full_name\", concat(col(\"name\"), lit(\" \")))\n",
        "\n",
        "df_concat.show()\n"
      ],
      "metadata": {
        "colab": {
          "base_uri": "https://localhost:8080/"
        },
        "id": "GlGF23NqrYEv",
        "outputId": "c0ffd98b-a881-4e42-d65f-1538a448d6d0"
      },
      "execution_count": 12,
      "outputs": [
        {
          "output_type": "stream",
          "name": "stdout",
          "text": [
            "+---+-------------+----------+---+-------+--------------+\n",
            "| id|         name|       dob|age| salary|     full_name|\n",
            "+---+-------------+----------+---+-------+--------------+\n",
            "|  1|     John Doe|2024-08-01| 23| 1000.5|     John Doe |\n",
            "|  2|   Jane Smith|2024-08-02| 34|2000.75|   Jane Smith |\n",
            "|  3|   Jake White|2024-08-03| 18| 3000.1|   Jake White |\n",
            "|  4|   Jill Black|2024-08-04| 45|4000.25|   Jill Black |\n",
            "|  5|  James Brown|2024-08-05| 29| 1500.3|  James Brown |\n",
            "|  6|Madhav Mishra|2024-08-06| 31|2500.45|Madhav Mishra |\n",
            "+---+-------------+----------+---+-------+--------------+\n",
            "\n"
          ]
        }
      ]
    },
    {
      "cell_type": "code",
      "source": [
        "#substring\n",
        "#Extracts the first three characters from the \"name\" column.\n",
        "\n",
        "from pyspark.sql.functions import substring\n",
        "\n",
        "df_substring = df.withColumn(\"first_three_chars\", substring(col(\"name\"), 1, 3))\n",
        "df_substring.show()\n"
      ],
      "metadata": {
        "colab": {
          "base_uri": "https://localhost:8080/"
        },
        "id": "M-NpTpmKr2fZ",
        "outputId": "57f9e387-876f-4897-bbc6-cab818664f5b"
      },
      "execution_count": 13,
      "outputs": [
        {
          "output_type": "stream",
          "name": "stdout",
          "text": [
            "+---+-------------+----------+---+-------+-----------------+\n",
            "| id|         name|       dob|age| salary|first_three_chars|\n",
            "+---+-------------+----------+---+-------+-----------------+\n",
            "|  1|     John Doe|2024-08-01| 23| 1000.5|              Joh|\n",
            "|  2|   Jane Smith|2024-08-02| 34|2000.75|              Jan|\n",
            "|  3|   Jake White|2024-08-03| 18| 3000.1|              Jak|\n",
            "|  4|   Jill Black|2024-08-04| 45|4000.25|              Jil|\n",
            "|  5|  James Brown|2024-08-05| 29| 1500.3|              Jam|\n",
            "|  6|Madhav Mishra|2024-08-06| 31|2500.45|              Mad|\n",
            "+---+-------------+----------+---+-------+-----------------+\n",
            "\n"
          ]
        }
      ]
    },
    {
      "cell_type": "code",
      "source": [
        "#split\n",
        "#Splits the \"name\" column into an array of words.\n",
        "\n",
        "from pyspark.sql.functions import split\n",
        "\n",
        "df_split = df.withColumn(\"name_array\", split(col(\"name\"), \" \"))\n",
        "df_split.show()\n"
      ],
      "metadata": {
        "colab": {
          "base_uri": "https://localhost:8080/"
        },
        "id": "IPVrROREsxLN",
        "outputId": "5b54756a-330d-4ff7-de0d-0b4f5885c896"
      },
      "execution_count": 14,
      "outputs": [
        {
          "output_type": "stream",
          "name": "stdout",
          "text": [
            "+---+-------------+----------+---+-------+----------------+\n",
            "| id|         name|       dob|age| salary|      name_array|\n",
            "+---+-------------+----------+---+-------+----------------+\n",
            "|  1|     John Doe|2024-08-01| 23| 1000.5|     [John, Doe]|\n",
            "|  2|   Jane Smith|2024-08-02| 34|2000.75|   [Jane, Smith]|\n",
            "|  3|   Jake White|2024-08-03| 18| 3000.1|   [Jake, White]|\n",
            "|  4|   Jill Black|2024-08-04| 45|4000.25|   [Jill, Black]|\n",
            "|  5|  James Brown|2024-08-05| 29| 1500.3|  [James, Brown]|\n",
            "|  6|Madhav Mishra|2024-08-06| 31|2500.45|[Madhav, Mishra]|\n",
            "+---+-------------+----------+---+-------+----------------+\n",
            "\n"
          ]
        }
      ]
    },
    {
      "cell_type": "code",
      "source": [
        "#regexp_replace\n",
        "#Replaces \"John\" with \"Jon\" in the \"name\" column.\n",
        "\n",
        "from pyspark.sql.functions import regexp_replace\n",
        "\n",
        "df_replace = df.withColumn(\"replaced_name\", regexp_replace(col(\"name\"), \"John\", \"Jon\"))\n",
        "df_replace.show()"
      ],
      "metadata": {
        "colab": {
          "base_uri": "https://localhost:8080/"
        },
        "id": "oBBRHEYRs4zs",
        "outputId": "b492074c-5ff3-4c0b-c7ba-17b19e170ba8"
      },
      "execution_count": 15,
      "outputs": [
        {
          "output_type": "stream",
          "name": "stdout",
          "text": [
            "+---+-------------+----------+---+-------+-------------+\n",
            "| id|         name|       dob|age| salary|replaced_name|\n",
            "+---+-------------+----------+---+-------+-------------+\n",
            "|  1|     John Doe|2024-08-01| 23| 1000.5|      Jon Doe|\n",
            "|  2|   Jane Smith|2024-08-02| 34|2000.75|   Jane Smith|\n",
            "|  3|   Jake White|2024-08-03| 18| 3000.1|   Jake White|\n",
            "|  4|   Jill Black|2024-08-04| 45|4000.25|   Jill Black|\n",
            "|  5|  James Brown|2024-08-05| 29| 1500.3|  James Brown|\n",
            "|  6|Madhav Mishra|2024-08-06| 31|2500.45|Madhav Mishra|\n",
            "+---+-------------+----------+---+-------+-------------+\n",
            "\n"
          ]
        }
      ]
    },
    {
      "cell_type": "code",
      "source": [
        "#count\n",
        "#Counts the number of records in the DataFrame.\n",
        "\n",
        "from pyspark.sql.functions import count\n",
        "\n",
        "df_count = df.agg(count(\"*\").alias(\"total_count\"))\n",
        "df_count.show()\n",
        "\n"
      ],
      "metadata": {
        "colab": {
          "base_uri": "https://localhost:8080/"
        },
        "id": "JNjdKs14txDr",
        "outputId": "cf1cefe0-da02-467f-8cf3-a05d674c6a7b"
      },
      "execution_count": 16,
      "outputs": [
        {
          "output_type": "stream",
          "name": "stdout",
          "text": [
            "+-----------+\n",
            "|total_count|\n",
            "+-----------+\n",
            "|          6|\n",
            "+-----------+\n",
            "\n"
          ]
        }
      ]
    },
    {
      "cell_type": "code",
      "source": [
        "#sum\n",
        "#Calculates the total salary.\n",
        "\n",
        "from pyspark.sql.functions import sum\n",
        "\n",
        "df_sum = df.agg(sum(\"salary\").alias(\"total_salary\"))\n",
        "df_sum.show()\n",
        "\n"
      ],
      "metadata": {
        "colab": {
          "base_uri": "https://localhost:8080/"
        },
        "id": "rsEpQ-P3uaWh",
        "outputId": "7cda9ec3-bf15-46a4-c62f-03cbf3153cf7"
      },
      "execution_count": 17,
      "outputs": [
        {
          "output_type": "stream",
          "name": "stdout",
          "text": [
            "+------------+\n",
            "|total_salary|\n",
            "+------------+\n",
            "|    14002.35|\n",
            "+------------+\n",
            "\n"
          ]
        }
      ]
    },
    {
      "cell_type": "code",
      "source": [
        "#avg\n",
        "#Calculates the average age.\n",
        "\n",
        "from pyspark.sql.functions import avg\n",
        "\n",
        "df_avg = df.agg(avg(\"age\").alias(\"average_age\"))\n",
        "df_avg.show()\n",
        "\n"
      ],
      "metadata": {
        "colab": {
          "base_uri": "https://localhost:8080/"
        },
        "id": "IJ5lnliEutp-",
        "outputId": "c9fa2bf4-ce35-4568-ea18-1ae9bdb19b41"
      },
      "execution_count": 18,
      "outputs": [
        {
          "output_type": "stream",
          "name": "stdout",
          "text": [
            "+-----------+\n",
            "|average_age|\n",
            "+-----------+\n",
            "|       30.0|\n",
            "+-----------+\n",
            "\n"
          ]
        }
      ]
    },
    {
      "cell_type": "code",
      "source": [
        "#max\n",
        "#Finds the maximum salary.\n",
        "\n",
        "from pyspark.sql.functions import max\n",
        "\n",
        "df_max = df.agg(max(\"salary\").alias(\"max_salary\"))\n",
        "df_max.show()"
      ],
      "metadata": {
        "colab": {
          "base_uri": "https://localhost:8080/"
        },
        "id": "n4VrhayZu2SA",
        "outputId": "e8c8810a-531a-4efc-c2af-41a7e80d4cd0"
      },
      "execution_count": 19,
      "outputs": [
        {
          "output_type": "stream",
          "name": "stdout",
          "text": [
            "+----------+\n",
            "|max_salary|\n",
            "+----------+\n",
            "|   4000.25|\n",
            "+----------+\n",
            "\n"
          ]
        }
      ]
    },
    {
      "cell_type": "code",
      "source": [
        "#min\n",
        "#Finds the minimum age.\n",
        "\n",
        "from pyspark.sql.functions import min\n",
        "\n",
        "df_min = df.agg(min(\"age\").alias(\"min_age\"))\n",
        "df_min.show()"
      ],
      "metadata": {
        "colab": {
          "base_uri": "https://localhost:8080/"
        },
        "id": "eZxhI4CPu8YH",
        "outputId": "612f35a5-795e-4aa0-c877-a619028c64f8"
      },
      "execution_count": 20,
      "outputs": [
        {
          "output_type": "stream",
          "name": "stdout",
          "text": [
            "+-------+\n",
            "|min_age|\n",
            "+-------+\n",
            "|     18|\n",
            "+-------+\n",
            "\n"
          ]
        }
      ]
    },
    {
      "cell_type": "code",
      "source": [
        "#round\n",
        "#Rounds the salary to the nearest integer.\n",
        "\n",
        "from pyspark.sql.functions import round\n",
        "\n",
        "df_round = df.withColumn(\"rounded_salary\", round(col(\"salary\"), 0))\n",
        "df_round.show()"
      ],
      "metadata": {
        "colab": {
          "base_uri": "https://localhost:8080/"
        },
        "id": "1rJP5GrovB9f",
        "outputId": "82a8c36f-de66-4214-d041-5fe8ae34f13c"
      },
      "execution_count": 21,
      "outputs": [
        {
          "output_type": "stream",
          "name": "stdout",
          "text": [
            "+---+-------------+----------+---+-------+--------------+\n",
            "| id|         name|       dob|age| salary|rounded_salary|\n",
            "+---+-------------+----------+---+-------+--------------+\n",
            "|  1|     John Doe|2024-08-01| 23| 1000.5|        1001.0|\n",
            "|  2|   Jane Smith|2024-08-02| 34|2000.75|        2001.0|\n",
            "|  3|   Jake White|2024-08-03| 18| 3000.1|        3000.0|\n",
            "|  4|   Jill Black|2024-08-04| 45|4000.25|        4000.0|\n",
            "|  5|  James Brown|2024-08-05| 29| 1500.3|        1500.0|\n",
            "|  6|Madhav Mishra|2024-08-06| 31|2500.45|        2500.0|\n",
            "+---+-------------+----------+---+-------+--------------+\n",
            "\n"
          ]
        }
      ]
    },
    {
      "cell_type": "code",
      "source": [
        "#date_format\n",
        "#Formats the \"dob\" (date of birth) column as MM/dd/yyyy.\n",
        "\n",
        "from pyspark.sql.functions import date_format\n",
        "\n",
        "df_date_format = df.withColumn(\"formatted_dob\", date_format(col(\"dob\"), \"MM/dd/yyyy\"))\n",
        "df_date_format.show()"
      ],
      "metadata": {
        "colab": {
          "base_uri": "https://localhost:8080/"
        },
        "id": "COlLCxSIvROH",
        "outputId": "cd054ca6-b44a-4d38-ae10-963ec9d5c33b"
      },
      "execution_count": 22,
      "outputs": [
        {
          "output_type": "stream",
          "name": "stdout",
          "text": [
            "+---+-------------+----------+---+-------+-------------+\n",
            "| id|         name|       dob|age| salary|formatted_dob|\n",
            "+---+-------------+----------+---+-------+-------------+\n",
            "|  1|     John Doe|2024-08-01| 23| 1000.5|   08/01/2024|\n",
            "|  2|   Jane Smith|2024-08-02| 34|2000.75|   08/02/2024|\n",
            "|  3|   Jake White|2024-08-03| 18| 3000.1|   08/03/2024|\n",
            "|  4|   Jill Black|2024-08-04| 45|4000.25|   08/04/2024|\n",
            "|  5|  James Brown|2024-08-05| 29| 1500.3|   08/05/2024|\n",
            "|  6|Madhav Mishra|2024-08-06| 31|2500.45|   08/06/2024|\n",
            "+---+-------------+----------+---+-------+-------------+\n",
            "\n"
          ]
        }
      ]
    },
    {
      "cell_type": "code",
      "source": [
        "#current_date\n",
        "#Adds the current date to the DataFrame.\n",
        "\n",
        "from pyspark.sql.functions import current_date\n",
        "\n",
        "df_current_date = df.withColumn(\"current_date\", current_date())\n",
        "df_current_date.show()"
      ],
      "metadata": {
        "colab": {
          "base_uri": "https://localhost:8080/"
        },
        "id": "9U35DGbovhsB",
        "outputId": "53bc83fe-cdf5-4ee1-876d-bb09d915a9c3"
      },
      "execution_count": 23,
      "outputs": [
        {
          "output_type": "stream",
          "name": "stdout",
          "text": [
            "+---+-------------+----------+---+-------+------------+\n",
            "| id|         name|       dob|age| salary|current_date|\n",
            "+---+-------------+----------+---+-------+------------+\n",
            "|  1|     John Doe|2024-08-01| 23| 1000.5|  2024-08-16|\n",
            "|  2|   Jane Smith|2024-08-02| 34|2000.75|  2024-08-16|\n",
            "|  3|   Jake White|2024-08-03| 18| 3000.1|  2024-08-16|\n",
            "|  4|   Jill Black|2024-08-04| 45|4000.25|  2024-08-16|\n",
            "|  5|  James Brown|2024-08-05| 29| 1500.3|  2024-08-16|\n",
            "|  6|Madhav Mishra|2024-08-06| 31|2500.45|  2024-08-16|\n",
            "+---+-------------+----------+---+-------+------------+\n",
            "\n"
          ]
        }
      ]
    },
    {
      "cell_type": "code",
      "source": [
        "#current_timestamp\n",
        "#Adds the current timestamp to the DataFrame.\n",
        "\n",
        "from pyspark.sql.functions import current_timestamp\n",
        "\n",
        "df_current_timestamp = df.withColumn(\"current_timestamp\", current_timestamp())\n",
        "df_current_timestamp.show(truncate=False)"
      ],
      "metadata": {
        "colab": {
          "base_uri": "https://localhost:8080/"
        },
        "id": "ZQXT0caPvte4",
        "outputId": "c911dd03-3a56-463d-b755-050ac046a24e"
      },
      "execution_count": 24,
      "outputs": [
        {
          "output_type": "stream",
          "name": "stdout",
          "text": [
            "+---+-------------+----------+---+-------+--------------------------+\n",
            "|id |name         |dob       |age|salary |current_timestamp         |\n",
            "+---+-------------+----------+---+-------+--------------------------+\n",
            "|1  |John Doe     |2024-08-01|23 |1000.5 |2024-08-16 13:02:05.950815|\n",
            "|2  |Jane Smith   |2024-08-02|34 |2000.75|2024-08-16 13:02:05.950815|\n",
            "|3  |Jake White   |2024-08-03|18 |3000.1 |2024-08-16 13:02:05.950815|\n",
            "|4  |Jill Black   |2024-08-04|45 |4000.25|2024-08-16 13:02:05.950815|\n",
            "|5  |James Brown  |2024-08-05|29 |1500.3 |2024-08-16 13:02:05.950815|\n",
            "|6  |Madhav Mishra|2024-08-06|31 |2500.45|2024-08-16 13:02:05.950815|\n",
            "+---+-------------+----------+---+-------+--------------------------+\n",
            "\n"
          ]
        }
      ]
    },
    {
      "cell_type": "code",
      "source": [
        "#year, month, dayofmonth\n",
        "#Extracts the year, month, and day from the \"dob\" column.\n",
        "\n",
        "from pyspark.sql.functions import year, month, dayofmonth\n",
        "\n",
        "df_year = df.withColumn(\"year\", year(col(\"dob\")))\n",
        "df_year.show()\n",
        "\n",
        "#from pyspark.sql.functions import year, month, dayofmonth\n",
        "\n",
        "#df.withColumn(\"year\", year(col(\"dob\"))).withColumn(\"month\", month(col(\"dob\"))).withColumn(\"day\", dayofmonth(col(\"dob\"))).show()\n"
      ],
      "metadata": {
        "colab": {
          "base_uri": "https://localhost:8080/"
        },
        "id": "ZLbOQDeEv1K9",
        "outputId": "53b6f6a4-727f-466b-a59c-2328afb57440"
      },
      "execution_count": 25,
      "outputs": [
        {
          "output_type": "stream",
          "name": "stdout",
          "text": [
            "+---+-------------+----------+---+-------+----+\n",
            "| id|         name|       dob|age| salary|year|\n",
            "+---+-------------+----------+---+-------+----+\n",
            "|  1|     John Doe|2024-08-01| 23| 1000.5|2024|\n",
            "|  2|   Jane Smith|2024-08-02| 34|2000.75|2024|\n",
            "|  3|   Jake White|2024-08-03| 18| 3000.1|2024|\n",
            "|  4|   Jill Black|2024-08-04| 45|4000.25|2024|\n",
            "|  5|  James Brown|2024-08-05| 29| 1500.3|2024|\n",
            "|  6|Madhav Mishra|2024-08-06| 31|2500.45|2024|\n",
            "+---+-------------+----------+---+-------+----+\n",
            "\n"
          ]
        }
      ]
    },
    {
      "cell_type": "code",
      "source": [
        "#date_add\n",
        "#Adds 10 days to the \"dob\" column.\n",
        "\n",
        "from pyspark.sql.functions import date_add\n",
        "\n",
        "df_date_add = df.withColumn(\"date_after_10_days\", date_add(col(\"dob\"), 10))\n",
        "df_date_add.show()"
      ],
      "metadata": {
        "colab": {
          "base_uri": "https://localhost:8080/"
        },
        "id": "L4WMd8HbwJVk",
        "outputId": "32a68684-3b1b-47fa-e386-5dc57c4423a7"
      },
      "execution_count": 26,
      "outputs": [
        {
          "output_type": "stream",
          "name": "stdout",
          "text": [
            "+---+-------------+----------+---+-------+------------------+\n",
            "| id|         name|       dob|age| salary|date_after_10_days|\n",
            "+---+-------------+----------+---+-------+------------------+\n",
            "|  1|     John Doe|2024-08-01| 23| 1000.5|        2024-08-11|\n",
            "|  2|   Jane Smith|2024-08-02| 34|2000.75|        2024-08-12|\n",
            "|  3|   Jake White|2024-08-03| 18| 3000.1|        2024-08-13|\n",
            "|  4|   Jill Black|2024-08-04| 45|4000.25|        2024-08-14|\n",
            "|  5|  James Brown|2024-08-05| 29| 1500.3|        2024-08-15|\n",
            "|  6|Madhav Mishra|2024-08-06| 31|2500.45|        2024-08-16|\n",
            "+---+-------------+----------+---+-------+------------------+\n",
            "\n"
          ]
        }
      ]
    },
    {
      "cell_type": "code",
      "source": [
        "#date_sub\n",
        "#Subtracts 10 days from the \"dob\" column.\n",
        "\n",
        "from pyspark.sql.functions import date_sub\n",
        "\n",
        "df_date_sub = df.withColumn(\"date_before_10_days\", date_sub(col(\"dob\"), 10))\n",
        "df_date_sub.show()\n"
      ],
      "metadata": {
        "colab": {
          "base_uri": "https://localhost:8080/"
        },
        "id": "gCvDZULtwc30",
        "outputId": "f8b5e8e1-6368-4aa7-c042-274614cb4544"
      },
      "execution_count": 27,
      "outputs": [
        {
          "output_type": "stream",
          "name": "stdout",
          "text": [
            "+---+-------------+----------+---+-------+-------------------+\n",
            "| id|         name|       dob|age| salary|date_before_10_days|\n",
            "+---+-------------+----------+---+-------+-------------------+\n",
            "|  1|     John Doe|2024-08-01| 23| 1000.5|         2024-07-22|\n",
            "|  2|   Jane Smith|2024-08-02| 34|2000.75|         2024-07-23|\n",
            "|  3|   Jake White|2024-08-03| 18| 3000.1|         2024-07-24|\n",
            "|  4|   Jill Black|2024-08-04| 45|4000.25|         2024-07-25|\n",
            "|  5|  James Brown|2024-08-05| 29| 1500.3|         2024-07-26|\n",
            "|  6|Madhav Mishra|2024-08-06| 31|2500.45|         2024-07-27|\n",
            "+---+-------------+----------+---+-------+-------------------+\n",
            "\n"
          ]
        }
      ]
    },
    {
      "cell_type": "code",
      "source": [
        "#datediff\n",
        "#Calculates the difference in days between the current date and the \"dob\".\n",
        "\n",
        "from pyspark.sql.functions import datediff\n",
        "\n",
        "df_date_diff = df.withColumn(\"days_since_dob\", datediff(current_date(), col(\"dob\")))\n",
        "df_date_diff.show()"
      ],
      "metadata": {
        "colab": {
          "base_uri": "https://localhost:8080/"
        },
        "id": "qM1c_UFcyLWW",
        "outputId": "c4f7d026-620f-4f88-99b3-0f320f2d8898"
      },
      "execution_count": 28,
      "outputs": [
        {
          "output_type": "stream",
          "name": "stdout",
          "text": [
            "+---+-------------+----------+---+-------+--------------+\n",
            "| id|         name|       dob|age| salary|days_since_dob|\n",
            "+---+-------------+----------+---+-------+--------------+\n",
            "|  1|     John Doe|2024-08-01| 23| 1000.5|            15|\n",
            "|  2|   Jane Smith|2024-08-02| 34|2000.75|            14|\n",
            "|  3|   Jake White|2024-08-03| 18| 3000.1|            13|\n",
            "|  4|   Jill Black|2024-08-04| 45|4000.25|            12|\n",
            "|  5|  James Brown|2024-08-05| 29| 1500.3|            11|\n",
            "|  6|Madhav Mishra|2024-08-06| 31|2500.45|            10|\n",
            "+---+-------------+----------+---+-------+--------------+\n",
            "\n"
          ]
        }
      ]
    },
    {
      "cell_type": "code",
      "source": [
        "#to_date\n",
        "#Converts the \"dob\" column from string to date format.\n",
        "\n",
        "from pyspark.sql.functions import to_date\n",
        "\n",
        "df_to_date = df.withColumn(\"dob_as_date\", to_date(col(\"dob\"), \"yyyy-MM-dd\"))\n",
        "df_to_date.show()"
      ],
      "metadata": {
        "colab": {
          "base_uri": "https://localhost:8080/"
        },
        "id": "-QR9DWWPyT0h",
        "outputId": "11e33256-9051-4e94-eafd-c503fcb137b8"
      },
      "execution_count": 29,
      "outputs": [
        {
          "output_type": "stream",
          "name": "stdout",
          "text": [
            "+---+-------------+----------+---+-------+-----------+\n",
            "| id|         name|       dob|age| salary|dob_as_date|\n",
            "+---+-------------+----------+---+-------+-----------+\n",
            "|  1|     John Doe|2024-08-01| 23| 1000.5| 2024-08-01|\n",
            "|  2|   Jane Smith|2024-08-02| 34|2000.75| 2024-08-02|\n",
            "|  3|   Jake White|2024-08-03| 18| 3000.1| 2024-08-03|\n",
            "|  4|   Jill Black|2024-08-04| 45|4000.25| 2024-08-04|\n",
            "|  5|  James Brown|2024-08-05| 29| 1500.3| 2024-08-05|\n",
            "|  6|Madhav Mishra|2024-08-06| 31|2500.45| 2024-08-06|\n",
            "+---+-------------+----------+---+-------+-----------+\n",
            "\n"
          ]
        }
      ]
    },
    {
      "cell_type": "code",
      "source": [
        "#to_timestamp\n",
        "#Converts the \"dob\" column from string to timestamp format.\n",
        "\n",
        "from pyspark.sql.functions import to_timestamp\n",
        "\n",
        "df_to_timestamp = df.withColumn(\"dob_as_timestamp\", to_timestamp(col(\"dob\"), \"yyyy-MM-dd\"))\n",
        "df_to_timestamp.show(truncate=False)"
      ],
      "metadata": {
        "colab": {
          "base_uri": "https://localhost:8080/"
        },
        "id": "hM6TBM0tygsP",
        "outputId": "d602cb8a-ab30-4fd8-bde9-d842f3c1ac29"
      },
      "execution_count": 30,
      "outputs": [
        {
          "output_type": "stream",
          "name": "stdout",
          "text": [
            "+---+-------------+----------+---+-------+-------------------+\n",
            "|id |name         |dob       |age|salary |dob_as_timestamp   |\n",
            "+---+-------------+----------+---+-------+-------------------+\n",
            "|1  |John Doe     |2024-08-01|23 |1000.5 |2024-08-01 00:00:00|\n",
            "|2  |Jane Smith   |2024-08-02|34 |2000.75|2024-08-02 00:00:00|\n",
            "|3  |Jake White   |2024-08-03|18 |3000.1 |2024-08-03 00:00:00|\n",
            "|4  |Jill Black   |2024-08-04|45 |4000.25|2024-08-04 00:00:00|\n",
            "|5  |James Brown  |2024-08-05|29 |1500.3 |2024-08-05 00:00:00|\n",
            "|6  |Madhav Mishra|2024-08-06|31 |2500.45|2024-08-06 00:00:00|\n",
            "+---+-------------+----------+---+-------+-------------------+\n",
            "\n"
          ]
        }
      ]
    },
    {
      "cell_type": "code",
      "source": [
        "# window\n",
        "#Aggregates the salary over a sliding window of one day.\n",
        "\n",
        "from pyspark.sql.functions import window\n",
        "\n",
        "df_window = df.withColumn(\"window\", window(col(\"dob\"), \"1 day\"))\n",
        "df_window.show(truncate=False)\n",
        "\n",
        "\n",
        "#from pyspark.sql.functions import window\n",
        "\n",
        "#df.groupBy(window(col(\"dob\"), \"1 day\")).sum(\"salary\").show(truncate=False)\n"
      ],
      "metadata": {
        "colab": {
          "base_uri": "https://localhost:8080/"
        },
        "id": "0EGDNyqry872",
        "outputId": "2fa602cb-c272-4b88-f9e4-f4fdce4279bb"
      },
      "execution_count": 31,
      "outputs": [
        {
          "output_type": "stream",
          "name": "stdout",
          "text": [
            "+---+-------------+----------+---+-------+------------------------------------------+\n",
            "|id |name         |dob       |age|salary |window                                    |\n",
            "+---+-------------+----------+---+-------+------------------------------------------+\n",
            "|1  |John Doe     |2024-08-01|23 |1000.5 |{2024-08-01 00:00:00, 2024-08-02 00:00:00}|\n",
            "|2  |Jane Smith   |2024-08-02|34 |2000.75|{2024-08-02 00:00:00, 2024-08-03 00:00:00}|\n",
            "|3  |Jake White   |2024-08-03|18 |3000.1 |{2024-08-03 00:00:00, 2024-08-04 00:00:00}|\n",
            "|4  |Jill Black   |2024-08-04|45 |4000.25|{2024-08-04 00:00:00, 2024-08-05 00:00:00}|\n",
            "|5  |James Brown  |2024-08-05|29 |1500.3 |{2024-08-05 00:00:00, 2024-08-06 00:00:00}|\n",
            "|6  |Madhav Mishra|2024-08-06|31 |2500.45|{2024-08-06 00:00:00, 2024-08-07 00:00:00}|\n",
            "+---+-------------+----------+---+-------+------------------------------------------+\n",
            "\n"
          ]
        }
      ]
    },
    {
      "cell_type": "code",
      "source": [
        "#rank, dense_rank, row_number\n",
        "#Applies ranking functions to the salary column.\n",
        "from pyspark.sql.window import Window\n",
        "from pyspark.sql.functions import rank, dense_rank, row_number\n",
        "\n",
        "windowSpec = Window.orderBy(col(\"salary\").desc())\n",
        "\n",
        "df.withColumn(\"rank\", rank().over(windowSpec)).withColumn(\"dense_rank\", dense_rank().over(windowSpec)).withColumn(\"row_number\", row_number().over(windowSpec)).show()\n"
      ],
      "metadata": {
        "colab": {
          "base_uri": "https://localhost:8080/"
        },
        "id": "bMmBqOykznEb",
        "outputId": "3206032e-2e73-4831-cfb3-7552d7d2b83c"
      },
      "execution_count": 32,
      "outputs": [
        {
          "output_type": "stream",
          "name": "stdout",
          "text": [
            "+---+-------------+----------+---+-------+----+----------+----------+\n",
            "| id|         name|       dob|age| salary|rank|dense_rank|row_number|\n",
            "+---+-------------+----------+---+-------+----+----------+----------+\n",
            "|  4|   Jill Black|2024-08-04| 45|4000.25|   1|         1|         1|\n",
            "|  3|   Jake White|2024-08-03| 18| 3000.1|   2|         2|         2|\n",
            "|  6|Madhav Mishra|2024-08-06| 31|2500.45|   3|         3|         3|\n",
            "|  2|   Jane Smith|2024-08-02| 34|2000.75|   4|         4|         4|\n",
            "|  5|  James Brown|2024-08-05| 29| 1500.3|   5|         5|         5|\n",
            "|  1|     John Doe|2024-08-01| 23| 1000.5|   6|         6|         6|\n",
            "+---+-------------+----------+---+-------+----+----------+----------+\n",
            "\n"
          ]
        }
      ]
    },
    {
      "cell_type": "code",
      "source": [
        "#array\n",
        "#Creates a new array column.\n",
        "\n",
        "from pyspark.sql.functions import array\n",
        "\n",
        "df_array = df.withColumn(\"array_column\", array(col(\"id\"), col(\"age\")))\n",
        "df_array.show()"
      ],
      "metadata": {
        "colab": {
          "base_uri": "https://localhost:8080/"
        },
        "id": "jG27TCrt0GGJ",
        "outputId": "6bbeed65-ff8c-41c1-a40d-71fb15328299"
      },
      "execution_count": 33,
      "outputs": [
        {
          "output_type": "stream",
          "name": "stdout",
          "text": [
            "+---+-------------+----------+---+-------+------------+\n",
            "| id|         name|       dob|age| salary|array_column|\n",
            "+---+-------------+----------+---+-------+------------+\n",
            "|  1|     John Doe|2024-08-01| 23| 1000.5|     [1, 23]|\n",
            "|  2|   Jane Smith|2024-08-02| 34|2000.75|     [2, 34]|\n",
            "|  3|   Jake White|2024-08-03| 18| 3000.1|     [3, 18]|\n",
            "|  4|   Jill Black|2024-08-04| 45|4000.25|     [4, 45]|\n",
            "|  5|  James Brown|2024-08-05| 29| 1500.3|     [5, 29]|\n",
            "|  6|Madhav Mishra|2024-08-06| 31|2500.45|     [6, 31]|\n",
            "+---+-------------+----------+---+-------+------------+\n",
            "\n"
          ]
        }
      ]
    },
    {
      "cell_type": "code",
      "source": [
        "#array_contains\n",
        "#Checks if a specified element exists in an array column.\n",
        "\n",
        "from pyspark.sql.functions import array_contains\n",
        "\n",
        "df_array_contains = df.withColumn(\"contains_id_1\", array_contains(array(col(\"id\")), 1))\n",
        "\n",
        "df_array_contains.show()\n",
        "\n"
      ],
      "metadata": {
        "colab": {
          "base_uri": "https://localhost:8080/"
        },
        "id": "gr-b6LzS1_By",
        "outputId": "533c3d68-bce6-447a-b116-dddf9876a320"
      },
      "execution_count": 34,
      "outputs": [
        {
          "output_type": "stream",
          "name": "stdout",
          "text": [
            "+---+-------------+----------+---+-------+-------------+\n",
            "| id|         name|       dob|age| salary|contains_id_1|\n",
            "+---+-------------+----------+---+-------+-------------+\n",
            "|  1|     John Doe|2024-08-01| 23| 1000.5|         true|\n",
            "|  2|   Jane Smith|2024-08-02| 34|2000.75|        false|\n",
            "|  3|   Jake White|2024-08-03| 18| 3000.1|        false|\n",
            "|  4|   Jill Black|2024-08-04| 45|4000.25|        false|\n",
            "|  5|  James Brown|2024-08-05| 29| 1500.3|        false|\n",
            "|  6|Madhav Mishra|2024-08-06| 31|2500.45|        false|\n",
            "+---+-------------+----------+---+-------+-------------+\n",
            "\n"
          ]
        }
      ]
    },
    {
      "cell_type": "code",
      "source": [
        "#explode\n",
        "#Creates a new row for each element in the given array or map column.\n",
        "\n",
        "from pyspark.sql.functions import explode\n",
        "\n",
        "df_explode = df.withColumn(\"exploded_array\", explode(array(col(\"id\"), col(\"age\"))))\n",
        "df_explode.show()"
      ],
      "metadata": {
        "colab": {
          "base_uri": "https://localhost:8080/"
        },
        "id": "sm0Dz81v2Scc",
        "outputId": "e13ef9e9-1ead-450f-92ff-7f745b6f91b1"
      },
      "execution_count": 35,
      "outputs": [
        {
          "output_type": "stream",
          "name": "stdout",
          "text": [
            "+---+-------------+----------+---+-------+--------------+\n",
            "| id|         name|       dob|age| salary|exploded_array|\n",
            "+---+-------------+----------+---+-------+--------------+\n",
            "|  1|     John Doe|2024-08-01| 23| 1000.5|             1|\n",
            "|  1|     John Doe|2024-08-01| 23| 1000.5|            23|\n",
            "|  2|   Jane Smith|2024-08-02| 34|2000.75|             2|\n",
            "|  2|   Jane Smith|2024-08-02| 34|2000.75|            34|\n",
            "|  3|   Jake White|2024-08-03| 18| 3000.1|             3|\n",
            "|  3|   Jake White|2024-08-03| 18| 3000.1|            18|\n",
            "|  4|   Jill Black|2024-08-04| 45|4000.25|             4|\n",
            "|  4|   Jill Black|2024-08-04| 45|4000.25|            45|\n",
            "|  5|  James Brown|2024-08-05| 29| 1500.3|             5|\n",
            "|  5|  James Brown|2024-08-05| 29| 1500.3|            29|\n",
            "|  6|Madhav Mishra|2024-08-06| 31|2500.45|             6|\n",
            "|  6|Madhav Mishra|2024-08-06| 31|2500.45|            31|\n",
            "+---+-------------+----------+---+-------+--------------+\n",
            "\n"
          ]
        }
      ]
    },
    {
      "cell_type": "code",
      "source": [
        "#map\n",
        "#Creates a new map column.\n",
        "\n",
        "\n",
        "from pyspark.sql.functions import create_map\n",
        "\n",
        "df_map = df.withColumn(\"map_column\", create_map(lit(\"name\"), col(\"name\"), lit(\"age\"), col(\"age\")))\n",
        "\n",
        "df_map.show(truncate=False)"
      ],
      "metadata": {
        "colab": {
          "base_uri": "https://localhost:8080/"
        },
        "id": "exDLM1KL2fdq",
        "outputId": "7d0391a1-fd51-4931-c12f-0e7c00e8dfc3"
      },
      "execution_count": 39,
      "outputs": [
        {
          "output_type": "stream",
          "name": "stdout",
          "text": [
            "+---+-------------+----------+---+-------+----------------------------------+\n",
            "|id |name         |dob       |age|salary |map_column                        |\n",
            "+---+-------------+----------+---+-------+----------------------------------+\n",
            "|1  |John Doe     |2024-08-01|23 |1000.5 |{name -> John Doe, age -> 23}     |\n",
            "|2  |Jane Smith   |2024-08-02|34 |2000.75|{name -> Jane Smith, age -> 34}   |\n",
            "|3  |Jake White   |2024-08-03|18 |3000.1 |{name -> Jake White, age -> 18}   |\n",
            "|4  |Jill Black   |2024-08-04|45 |4000.25|{name -> Jill Black, age -> 45}   |\n",
            "|5  |James Brown  |2024-08-05|29 |1500.3 |{name -> James Brown, age -> 29}  |\n",
            "|6  |Madhav Mishra|2024-08-06|31 |2500.45|{name -> Madhav Mishra, age -> 31}|\n",
            "+---+-------------+----------+---+-------+----------------------------------+\n",
            "\n"
          ]
        }
      ]
    },
    {
      "cell_type": "code",
      "source": [
        "#coalesce\n",
        "#Returns the first non-null value among the given columns.\n",
        "\n",
        "from pyspark.sql.functions import coalesce\n",
        "\n",
        "df_coalesce = df.withColumn(\"coalesced_value\", coalesce(col(\"name\"), col(\"age\")))\n",
        "df_coalesce.show()\n"
      ],
      "metadata": {
        "colab": {
          "base_uri": "https://localhost:8080/"
        },
        "id": "MHpJkJZzSPkc",
        "outputId": "e37f0b2a-cdcf-4b39-86b3-ba994d9a41c6"
      },
      "execution_count": 43,
      "outputs": [
        {
          "output_type": "stream",
          "name": "stdout",
          "text": [
            "+---+-------------+----------+---+-------+---------------+\n",
            "| id|         name|       dob|age| salary|coalesced_value|\n",
            "+---+-------------+----------+---+-------+---------------+\n",
            "|  1|     John Doe|2024-08-01| 23| 1000.5|       John Doe|\n",
            "|  2|   Jane Smith|2024-08-02| 34|2000.75|     Jane Smith|\n",
            "|  3|   Jake White|2024-08-03| 18| 3000.1|     Jake White|\n",
            "|  4|   Jill Black|2024-08-04| 45|4000.25|     Jill Black|\n",
            "|  5|  James Brown|2024-08-05| 29| 1500.3|    James Brown|\n",
            "|  6|Madhav Mishra|2024-08-06| 31|2500.45|  Madhav Mishra|\n",
            "+---+-------------+----------+---+-------+---------------+\n",
            "\n"
          ]
        }
      ]
    },
    {
      "cell_type": "code",
      "source": [
        "#isnull\n",
        "#Checks if the column is null.\n",
        "\n",
        "from pyspark.sql.functions import isnull\n",
        "\n",
        "df_isnull = df.withColumn(\"is_name_null\", isnull(col(\"name\")))\n",
        "df_isnull.show()"
      ],
      "metadata": {
        "colab": {
          "base_uri": "https://localhost:8080/"
        },
        "id": "4yseKXnlS0mP",
        "outputId": "e6e882a2-65d6-4f87-b9f6-f15d8846ed13"
      },
      "execution_count": 44,
      "outputs": [
        {
          "output_type": "stream",
          "name": "stdout",
          "text": [
            "+---+-------------+----------+---+-------+------------+\n",
            "| id|         name|       dob|age| salary|is_name_null|\n",
            "+---+-------------+----------+---+-------+------------+\n",
            "|  1|     John Doe|2024-08-01| 23| 1000.5|       false|\n",
            "|  2|   Jane Smith|2024-08-02| 34|2000.75|       false|\n",
            "|  3|   Jake White|2024-08-03| 18| 3000.1|       false|\n",
            "|  4|   Jill Black|2024-08-04| 45|4000.25|       false|\n",
            "|  5|  James Brown|2024-08-05| 29| 1500.3|       false|\n",
            "|  6|Madhav Mishra|2024-08-06| 31|2500.45|       false|\n",
            "+---+-------------+----------+---+-------+------------+\n",
            "\n"
          ]
        }
      ]
    },
    {
      "cell_type": "code",
      "source": [
        "#isnan\n",
        "#Checks if the column is NaN.\n",
        "\n",
        "from pyspark.sql.functions import isnan\n",
        "\n",
        "df_isnan = df.withColumn(\"is_age_nan\", isnan(col(\"age\")))\n",
        "df_isnan.show()"
      ],
      "metadata": {
        "colab": {
          "base_uri": "https://localhost:8080/"
        },
        "id": "sLNCjW8xTUpq",
        "outputId": "f023ddab-2b05-4fe2-c84c-61e91b4c42b1"
      },
      "execution_count": 45,
      "outputs": [
        {
          "output_type": "stream",
          "name": "stdout",
          "text": [
            "+---+-------------+----------+---+-------+----------+\n",
            "| id|         name|       dob|age| salary|is_age_nan|\n",
            "+---+-------------+----------+---+-------+----------+\n",
            "|  1|     John Doe|2024-08-01| 23| 1000.5|     false|\n",
            "|  2|   Jane Smith|2024-08-02| 34|2000.75|     false|\n",
            "|  3|   Jake White|2024-08-03| 18| 3000.1|     false|\n",
            "|  4|   Jill Black|2024-08-04| 45|4000.25|     false|\n",
            "|  5|  James Brown|2024-08-05| 29| 1500.3|     false|\n",
            "|  6|Madhav Mishra|2024-08-06| 31|2500.45|     false|\n",
            "+---+-------------+----------+---+-------+----------+\n",
            "\n"
          ]
        }
      ]
    },
    {
      "cell_type": "code",
      "source": [
        "#sha2\n",
        "#Applies the SHA-2 hash function to the column.\n",
        "\n",
        "from pyspark.sql.functions import sha2\n",
        "\n",
        "df_sha2 = df.withColumn(\"sha2_hash\", sha2(col(\"name\"), 256))\n",
        "df_sha2.show(truncate=False)"
      ],
      "metadata": {
        "colab": {
          "base_uri": "https://localhost:8080/"
        },
        "id": "fg7KqeQpTZqd",
        "outputId": "94317fa1-7ba3-4d00-99de-525877f9cfe6"
      },
      "execution_count": 46,
      "outputs": [
        {
          "output_type": "stream",
          "name": "stdout",
          "text": [
            "+---+-------------+----------+---+-------+----------------------------------------------------------------+\n",
            "|id |name         |dob       |age|salary |sha2_hash                                                       |\n",
            "+---+-------------+----------+---+-------+----------------------------------------------------------------+\n",
            "|1  |John Doe     |2024-08-01|23 |1000.5 |6cea57c2fb6cbc2a40411135005760f241fffc3e5e67ab99882726431037f908|\n",
            "|2  |Jane Smith   |2024-08-02|34 |2000.75|a2dd3acadb1c9dcd956216993056a7f50a9db6e3a16c60b35482139b5349c288|\n",
            "|3  |Jake White   |2024-08-03|18 |3000.1 |46dae60ac51d1dfbb195b62ca2a6c4fd76f0d0ef5e32ee32a3b9987bc30251ef|\n",
            "|4  |Jill Black   |2024-08-04|45 |4000.25|7db233fa461a23bfe24e0c1b5f0cd82e8750969c1e9c4450761cf800425caba7|\n",
            "|5  |James Brown  |2024-08-05|29 |1500.3 |b3d60509901a9912f651bac21d52c7ddffc9bc8620f5052fbddd39e3c59f84b0|\n",
            "|6  |Madhav Mishra|2024-08-06|31 |2500.45|4cdec17dacd6ffe870947ac1cb6d10901adf819458055ab02df4a3540dd3f477|\n",
            "+---+-------------+----------+---+-------+----------------------------------------------------------------+\n",
            "\n"
          ]
        }
      ]
    },
    {
      "cell_type": "code",
      "source": [
        "#md5\n",
        "#Calculates the MD5 hash of a column.\n",
        "\n",
        "from pyspark.sql.functions import md5\n",
        "\n",
        "df_md5 = df.withColumn(\"md5_hash\", md5(col(\"name\")))\n",
        "df_md5.show(truncate=False)\n"
      ],
      "metadata": {
        "colab": {
          "base_uri": "https://localhost:8080/"
        },
        "id": "T9Obn5yXTe86",
        "outputId": "c6282ae2-ba35-483b-d512-b696c8200b8a"
      },
      "execution_count": 47,
      "outputs": [
        {
          "output_type": "stream",
          "name": "stdout",
          "text": [
            "+---+-------------+----------+---+-------+--------------------------------+\n",
            "|id |name         |dob       |age|salary |md5_hash                        |\n",
            "+---+-------------+----------+---+-------+--------------------------------+\n",
            "|1  |John Doe     |2024-08-01|23 |1000.5 |4c2a904bafba06591225113ad17b5cec|\n",
            "|2  |Jane Smith   |2024-08-02|34 |2000.75|71768b5e2a0b3697eb3c0c6d4ebbbaf8|\n",
            "|3  |Jake White   |2024-08-03|18 |3000.1 |3ee9984296bc94702c3fa0b750b928fb|\n",
            "|4  |Jill Black   |2024-08-04|45 |4000.25|78b82745b366583ae84dde2d90114901|\n",
            "|5  |James Brown  |2024-08-05|29 |1500.3 |8495e8e406d3d625719ae2a9fb8d2f9b|\n",
            "|6  |Madhav Mishra|2024-08-06|31 |2500.45|80d7e488885a319a5fb5ea29fe6b526b|\n",
            "+---+-------------+----------+---+-------+--------------------------------+\n",
            "\n"
          ]
        }
      ]
    },
    {
      "cell_type": "code",
      "source": [
        "#monotonically_increasing_id\n",
        "#Generates a unique, monotonically increasing 64-bit integer for each row.\n",
        "\n",
        "from pyspark.sql.functions import monotonically_increasing_id\n",
        "\n",
        "df_monotonically_increasing_id = df.withColumn(\"monotonically_increasing_id\", monotonically_increasing_id())\n",
        "df_monotonically_increasing_id.show()\n",
        "\n"
      ],
      "metadata": {
        "colab": {
          "base_uri": "https://localhost:8080/"
        },
        "id": "z9FsWjtuTkaV",
        "outputId": "3074e1ac-b0e1-4e2d-80a5-742f003e19c2"
      },
      "execution_count": 49,
      "outputs": [
        {
          "output_type": "stream",
          "name": "stdout",
          "text": [
            "+---+-------------+----------+---+-------+---------------------------+\n",
            "| id|         name|       dob|age| salary|monotonically_increasing_id|\n",
            "+---+-------------+----------+---+-------+---------------------------+\n",
            "|  1|     John Doe|2024-08-01| 23| 1000.5|                          0|\n",
            "|  2|   Jane Smith|2024-08-02| 34|2000.75|                          1|\n",
            "|  3|   Jake White|2024-08-03| 18| 3000.1|                          2|\n",
            "|  4|   Jill Black|2024-08-04| 45|4000.25|                 8589934592|\n",
            "|  5|  James Brown|2024-08-05| 29| 1500.3|                 8589934593|\n",
            "|  6|Madhav Mishra|2024-08-06| 31|2500.45|                 8589934594|\n",
            "+---+-------------+----------+---+-------+---------------------------+\n",
            "\n"
          ]
        }
      ]
    },
    {
      "cell_type": "code",
      "source": [
        "#length\n",
        "#Returns the length of a string column.\n",
        "\n",
        "from pyspark.sql.functions import length\n",
        "\n",
        "df_length = df.withColumn(\"name_length\", length(col(\"name\")))\n",
        "df_length.show()"
      ],
      "metadata": {
        "colab": {
          "base_uri": "https://localhost:8080/"
        },
        "id": "e015DilaTp3v",
        "outputId": "5d865c0d-7fa9-4fe2-d5d4-19de3adae858"
      },
      "execution_count": 50,
      "outputs": [
        {
          "output_type": "stream",
          "name": "stdout",
          "text": [
            "+---+-------------+----------+---+-------+-----------+\n",
            "| id|         name|       dob|age| salary|name_length|\n",
            "+---+-------------+----------+---+-------+-----------+\n",
            "|  1|     John Doe|2024-08-01| 23| 1000.5|          8|\n",
            "|  2|   Jane Smith|2024-08-02| 34|2000.75|         10|\n",
            "|  3|   Jake White|2024-08-03| 18| 3000.1|         10|\n",
            "|  4|   Jill Black|2024-08-04| 45|4000.25|         10|\n",
            "|  5|  James Brown|2024-08-05| 29| 1500.3|         11|\n",
            "|  6|Madhav Mishra|2024-08-06| 31|2500.45|         13|\n",
            "+---+-------------+----------+---+-------+-----------+\n",
            "\n"
          ]
        }
      ]
    },
    {
      "cell_type": "code",
      "source": [
        "#upper and lower\n",
        "#Converts all characters of a string column to upper or lower case.\n",
        "\n",
        "from pyspark.sql.functions import upper, lower\n",
        "\n",
        "#df_upper = df.withColumn(\"upper_name\", upper(col(\"name\")))\n",
        "#df_upper.show()\n",
        "\n",
        "\n",
        "from pyspark.sql.functions import upper, lower\n",
        "\n",
        "df_upper_lower = df.withColumn(\"name_upper\", upper(col(\"name\"))).withColumn(\"name_lower\", lower(col(\"name\")))\n",
        "df_upper_lower.show()\n"
      ],
      "metadata": {
        "colab": {
          "base_uri": "https://localhost:8080/"
        },
        "id": "l1zuGhRdT3lx",
        "outputId": "58f7a6de-305f-4fe1-e181-0901759c19c1"
      },
      "execution_count": 52,
      "outputs": [
        {
          "output_type": "stream",
          "name": "stdout",
          "text": [
            "+---+-------------+----------+---+-------+-------------+-------------+\n",
            "| id|         name|       dob|age| salary|   name_upper|   name_lower|\n",
            "+---+-------------+----------+---+-------+-------------+-------------+\n",
            "|  1|     John Doe|2024-08-01| 23| 1000.5|     JOHN DOE|     john doe|\n",
            "|  2|   Jane Smith|2024-08-02| 34|2000.75|   JANE SMITH|   jane smith|\n",
            "|  3|   Jake White|2024-08-03| 18| 3000.1|   JAKE WHITE|   jake white|\n",
            "|  4|   Jill Black|2024-08-04| 45|4000.25|   JILL BLACK|   jill black|\n",
            "|  5|  James Brown|2024-08-05| 29| 1500.3|  JAMES BROWN|  james brown|\n",
            "|  6|Madhav Mishra|2024-08-06| 31|2500.45|MADHAV MISHRA|madhav mishra|\n",
            "+---+-------------+----------+---+-------+-------------+-------------+\n",
            "\n"
          ]
        }
      ]
    },
    {
      "cell_type": "code",
      "source": [
        "#trim, ltrim, rtrim\n",
        "#Trims spaces from both sides, left side, or right side of a string column.\n",
        "\n",
        "from pyspark.sql.functions import trim, ltrim, rtrim\n",
        "\"\"\"\n",
        "df_trim = df.withColumn(\"trimmed_name\", trim(col(\"name\")))\n",
        "df_trim.show()\n",
        "\n",
        "df_ltrim = df.withColumn(\"ltrimmed_name\", ltrim(col(\"name\")))\n",
        "df_ltrim.show()\n",
        "\n",
        "df_rtrim = df.withColumn(\"rtrimmed_name\", rtrim(col(\"name\")))\n",
        "df_rtrim.show()\n",
        "\"\"\"\n",
        "\n",
        "\n",
        "from pyspark.sql.functions import trim, ltrim, rtrim\n",
        "\n",
        "df_all = df.withColumn(\"name_trimmed\", trim(col(\"name\"))).withColumn(\"name_ltrimmed\", ltrim(col(\"name\"))).withColumn(\"name_rtrimmed\", rtrim(col(\"name\")))\n",
        "df_all.show()\n"
      ],
      "metadata": {
        "colab": {
          "base_uri": "https://localhost:8080/"
        },
        "id": "aNacjY9PT8Gc",
        "outputId": "24bc70ae-3b72-4c5a-bd6b-ac8be0d7dde7"
      },
      "execution_count": 53,
      "outputs": [
        {
          "output_type": "stream",
          "name": "stdout",
          "text": [
            "+---+-------------+----------+---+-------+-------------+-------------+-------------+\n",
            "| id|         name|       dob|age| salary| name_trimmed|name_ltrimmed|name_rtrimmed|\n",
            "+---+-------------+----------+---+-------+-------------+-------------+-------------+\n",
            "|  1|     John Doe|2024-08-01| 23| 1000.5|     John Doe|     John Doe|     John Doe|\n",
            "|  2|   Jane Smith|2024-08-02| 34|2000.75|   Jane Smith|   Jane Smith|   Jane Smith|\n",
            "|  3|   Jake White|2024-08-03| 18| 3000.1|   Jake White|   Jake White|   Jake White|\n",
            "|  4|   Jill Black|2024-08-04| 45|4000.25|   Jill Black|   Jill Black|   Jill Black|\n",
            "|  5|  James Brown|2024-08-05| 29| 1500.3|  James Brown|  James Brown|  James Brown|\n",
            "|  6|Madhav Mishra|2024-08-06| 31|2500.45|Madhav Mishra|Madhav Mishra|Madhav Mishra|\n",
            "+---+-------------+----------+---+-------+-------------+-------------+-------------+\n",
            "\n"
          ]
        }
      ]
    },
    {
      "cell_type": "code",
      "source": [
        "#abs\n",
        "#Returns the absolute value of a numeric column.\n",
        "\n",
        "from pyspark.sql.functions import abs\n",
        "\n",
        "#df_abs = df.withColumn(\"absolute_age\", abs(col(\"age\")))\n",
        "#df_abs.show()\n",
        "\n",
        "from pyspark.sql.functions import abs\n",
        "\n",
        "df_abs = df.withColumn(\"abs_salary\", abs(col(\"salary\") - 3000))\n",
        "df_abs.show()\n"
      ],
      "metadata": {
        "colab": {
          "base_uri": "https://localhost:8080/"
        },
        "id": "3Q02wRctUd7d",
        "outputId": "ba1b1d83-8bc4-4351-e875-f0cbd7804b11"
      },
      "execution_count": 55,
      "outputs": [
        {
          "output_type": "stream",
          "name": "stdout",
          "text": [
            "+---+-------------+----------+---+-------+-------------------+\n",
            "| id|         name|       dob|age| salary|         abs_salary|\n",
            "+---+-------------+----------+---+-------+-------------------+\n",
            "|  1|     John Doe|2024-08-01| 23| 1000.5|             1999.5|\n",
            "|  2|   Jane Smith|2024-08-02| 34|2000.75|             999.25|\n",
            "|  3|   Jake White|2024-08-03| 18| 3000.1|0.09999999999990905|\n",
            "|  4|   Jill Black|2024-08-04| 45|4000.25|            1000.25|\n",
            "|  5|  James Brown|2024-08-05| 29| 1500.3|             1499.7|\n",
            "|  6|Madhav Mishra|2024-08-06| 31|2500.45|  499.5500000000002|\n",
            "+---+-------------+----------+---+-------+-------------------+\n",
            "\n"
          ]
        }
      ]
    },
    {
      "cell_type": "code",
      "source": [
        "#sqrt\n",
        "#Returns the square root of a numeric column.\n",
        "\n",
        "from pyspark.sql.functions import sqrt\n",
        "\n",
        "df_sqrt = df.withColumn(\"sqrt_age\", sqrt(col(\"age\")))\n",
        "df_sqrt.show()\n"
      ],
      "metadata": {
        "colab": {
          "base_uri": "https://localhost:8080/"
        },
        "id": "cCoKVBV2Uvxo",
        "outputId": "51a2171c-b634-4d60-eac4-64d88b3a5387"
      },
      "execution_count": 56,
      "outputs": [
        {
          "output_type": "stream",
          "name": "stdout",
          "text": [
            "+---+-------------+----------+---+-------+------------------+\n",
            "| id|         name|       dob|age| salary|          sqrt_age|\n",
            "+---+-------------+----------+---+-------+------------------+\n",
            "|  1|     John Doe|2024-08-01| 23| 1000.5| 4.795831523312719|\n",
            "|  2|   Jane Smith|2024-08-02| 34|2000.75| 5.830951894845301|\n",
            "|  3|   Jake White|2024-08-03| 18| 3000.1| 4.242640687119285|\n",
            "|  4|   Jill Black|2024-08-04| 45|4000.25| 6.708203932499369|\n",
            "|  5|  James Brown|2024-08-05| 29| 1500.3| 5.385164807134504|\n",
            "|  6|Madhav Mishra|2024-08-06| 31|2500.45|5.5677643628300215|\n",
            "+---+-------------+----------+---+-------+------------------+\n",
            "\n"
          ]
        }
      ]
    },
    {
      "cell_type": "code",
      "source": [
        "#exp\n",
        "#Computes the exponential of the given column.\n",
        "\n",
        "from pyspark.sql.functions import exp\n",
        "\n",
        "#df_exp = df.withColumn(\"exp_salary\", exp(col(\"salary\")))\n",
        "#df_exp.show()\n",
        "\n",
        "from pyspark.sql.functions import exp\n",
        "\n",
        "df_exp= df.withColumn(\"exp_age\", exp(col(\"age\")))\n",
        "df_exp.show()\n"
      ],
      "metadata": {
        "colab": {
          "base_uri": "https://localhost:8080/"
        },
        "id": "-1EuTxCQU9A1",
        "outputId": "e26d1cea-b76c-4fee-99e9-440f38652dbb"
      },
      "execution_count": 58,
      "outputs": [
        {
          "output_type": "stream",
          "name": "stdout",
          "text": [
            "+---+-------------+----------+---+-------+--------------------+\n",
            "| id|         name|       dob|age| salary|             exp_age|\n",
            "+---+-------------+----------+---+-------+--------------------+\n",
            "|  1|     John Doe|2024-08-01| 23| 1000.5| 9.744803446248903E9|\n",
            "|  2|   Jane Smith|2024-08-02| 34|2000.75|5.834617425274549E14|\n",
            "|  3|   Jake White|2024-08-03| 18| 3000.1| 6.565996913733051E7|\n",
            "|  4|   Jill Black|2024-08-04| 45|4000.25|3.493427105748509...|\n",
            "|  5|  James Brown|2024-08-05| 29| 1500.3|3.931334297144042E12|\n",
            "|  6|Madhav Mishra|2024-08-06| 31|2500.45|2.904884966524742...|\n",
            "+---+-------------+----------+---+-------+--------------------+\n",
            "\n"
          ]
        }
      ]
    },
    {
      "cell_type": "code",
      "source": [
        "#log, log10, log2\n",
        "#Computes the logarithm of the column using a base of e, 10, or 2.\n",
        "\n",
        "from pyspark.sql.functions import log, log10, log2\n",
        "\n",
        "#df_log = df.withColumn(\"log_salary\", log(col(\"salary\")))\n",
        "#df_log.show()\n",
        "\n",
        "#df_log = df.withColumn(\"log_salary\", log10(col(\"salary\")))\n",
        "#df_log.show()\n",
        "\n",
        "#df_log = df.withColumn(\"log_salary\", log2(col(\"salary\")))\n",
        "#df_log.show()\n",
        "\n",
        "df_all = df.withColumn(\"log_age\", log(col(\"age\"))).withColumn(\"log10_age\", log10(col(\"age\"))).withColumn(\"log2_age\", log2(col(\"age\")))\n",
        "df_all.show()\n"
      ],
      "metadata": {
        "colab": {
          "base_uri": "https://localhost:8080/"
        },
        "id": "kmdHIS3PVDax",
        "outputId": "07c0bfaa-c7cf-4e7d-c8ce-4660dce3f9ad"
      },
      "execution_count": 59,
      "outputs": [
        {
          "output_type": "stream",
          "name": "stdout",
          "text": [
            "+---+-------------+----------+---+-------+------------------+------------------+-----------------+\n",
            "| id|         name|       dob|age| salary|           log_age|         log10_age|         log2_age|\n",
            "+---+-------------+----------+---+-------+------------------+------------------+-----------------+\n",
            "|  1|     John Doe|2024-08-01| 23| 1000.5|3.1354942159291497|1.3617278360175928|4.523561956057013|\n",
            "|  2|   Jane Smith|2024-08-02| 34|2000.75|3.5263605246161616|1.5314789170422551| 5.08746284125034|\n",
            "|  3|   Jake White|2024-08-03| 18| 3000.1|2.8903717578961645| 1.255272505103306|4.169925001442312|\n",
            "|  4|   Jill Black|2024-08-04| 45|4000.25|3.8066624897703196|1.6532125137753437|5.491853096329675|\n",
            "|  5|  James Brown|2024-08-05| 29| 1500.3| 3.367295829986474| 1.462397997898956|4.857980995127573|\n",
            "|  6|Madhav Mishra|2024-08-06| 31|2500.45|3.4339872044851463|1.4913616938342726|4.954196310386876|\n",
            "+---+-------------+----------+---+-------+------------------+------------------+-----------------+\n",
            "\n"
          ]
        }
      ]
    },
    {
      "cell_type": "code",
      "source": [
        "#greatest and least\n",
        "#Returns the greatest or least value of the list of columns.\n",
        "\n",
        "from pyspark.sql.functions import greatest, least\n",
        "\n",
        "df_greatest = df.withColumn(\"greatest_value\", greatest(col(\"id\"), col(\"age\")))\n",
        "print(df_greatest.show())\n",
        "\n",
        "df_least = df.withColumn(\"least_value\", least(col(\"id\"), col(\"age\")))\n",
        "print(df_least.show())\n",
        "\n",
        "#df_all = df.withColumn(\"max_value\", greatest(col(\"age\"), col(\"salary\"))).withColumn(\"min_value\", least(col(\"age\"), col(\"salary\")))\n",
        "#df_all.show()\n",
        "\n"
      ],
      "metadata": {
        "colab": {
          "base_uri": "https://localhost:8080/"
        },
        "id": "S4MyL3-rbQHC",
        "outputId": "ac6e6006-c89d-4f23-d558-bbbf8225cdfd"
      },
      "execution_count": 62,
      "outputs": [
        {
          "output_type": "stream",
          "name": "stdout",
          "text": [
            "+---+-------------+----------+---+-------+--------------+\n",
            "| id|         name|       dob|age| salary|greatest_value|\n",
            "+---+-------------+----------+---+-------+--------------+\n",
            "|  1|     John Doe|2024-08-01| 23| 1000.5|            23|\n",
            "|  2|   Jane Smith|2024-08-02| 34|2000.75|            34|\n",
            "|  3|   Jake White|2024-08-03| 18| 3000.1|            18|\n",
            "|  4|   Jill Black|2024-08-04| 45|4000.25|            45|\n",
            "|  5|  James Brown|2024-08-05| 29| 1500.3|            29|\n",
            "|  6|Madhav Mishra|2024-08-06| 31|2500.45|            31|\n",
            "+---+-------------+----------+---+-------+--------------+\n",
            "\n",
            "None\n",
            "+---+-------------+----------+---+-------+-----------+\n",
            "| id|         name|       dob|age| salary|least_value|\n",
            "+---+-------------+----------+---+-------+-----------+\n",
            "|  1|     John Doe|2024-08-01| 23| 1000.5|          1|\n",
            "|  2|   Jane Smith|2024-08-02| 34|2000.75|          2|\n",
            "|  3|   Jake White|2024-08-03| 18| 3000.1|          3|\n",
            "|  4|   Jill Black|2024-08-04| 45|4000.25|          4|\n",
            "|  5|  James Brown|2024-08-05| 29| 1500.3|          5|\n",
            "|  6|Madhav Mishra|2024-08-06| 31|2500.45|          6|\n",
            "+---+-------------+----------+---+-------+-----------+\n",
            "\n",
            "None\n"
          ]
        }
      ]
    },
    {
      "cell_type": "code",
      "source": [
        "#pow\n",
        "#Raises the value of a column to the power of another column.\n",
        "\n",
        "from pyspark.sql.functions import pow\n",
        "\n",
        "df_pow = df.withColumn(\"pow_result\", pow(col(\"id\"), col(\"age\")))\n",
        "df_pow.show(truncate=False)"
      ],
      "metadata": {
        "colab": {
          "base_uri": "https://localhost:8080/"
        },
        "id": "EBKazBCKbYOa",
        "outputId": "22ac8ca9-23ff-4568-c92a-1ce352205a29"
      },
      "execution_count": 64,
      "outputs": [
        {
          "output_type": "stream",
          "name": "stdout",
          "text": [
            "+---+-------------+----------+---+-------+---------------------+\n",
            "|id |name         |dob       |age|salary |pow_result           |\n",
            "+---+-------------+----------+---+-------+---------------------+\n",
            "|1  |John Doe     |2024-08-01|23 |1000.5 |1.0                  |\n",
            "|2  |Jane Smith   |2024-08-02|34 |2000.75|1.7179869184E10      |\n",
            "|3  |Jake White   |2024-08-03|18 |3000.1 |3.87420489E8         |\n",
            "|4  |Jill Black   |2024-08-04|45 |4000.25|1.2379400392853803E27|\n",
            "|5  |James Brown  |2024-08-05|29 |1500.3 |1.8626451492309572E20|\n",
            "|6  |Madhav Mishra|2024-08-06|31 |2500.45|1.3264435183244001E24|\n",
            "+---+-------------+----------+---+-------+---------------------+\n",
            "\n"
          ]
        }
      ]
    },
    {
      "cell_type": "code",
      "source": [
        "#round, bround\n",
        "#Rounds the value of the column to the nearest integer or to the nearest integer with ties broken by rounding away from zero.\n",
        "\n",
        "from pyspark.sql.functions import round, bround\n",
        "\n",
        "df_round = df.withColumn(\"rounded_salary\", round(col(\"salary\"), 0))\n",
        "print(df_round.show())\n",
        "\n",
        "df_bround = df.withColumn(\"brounded_salary\", bround(col(\"salary\"), 0))\n",
        "print(df_bround.show())\n",
        "\n",
        "#df_all = df.withColumn(\"rounded_salary\", round(col(\"salary\"), 0)).withColumn(\"brounded_salary\", bround(col(\"salary\"), 0))\n",
        "#df_all.show()\n"
      ],
      "metadata": {
        "colab": {
          "base_uri": "https://localhost:8080/"
        },
        "id": "-c-n92tYb2nt",
        "outputId": "73b577ce-c829-49ac-b8ae-8253c7ec5eee"
      },
      "execution_count": 65,
      "outputs": [
        {
          "output_type": "stream",
          "name": "stdout",
          "text": [
            "+---+-------------+----------+---+-------+--------------+\n",
            "| id|         name|       dob|age| salary|rounded_salary|\n",
            "+---+-------------+----------+---+-------+--------------+\n",
            "|  1|     John Doe|2024-08-01| 23| 1000.5|        1001.0|\n",
            "|  2|   Jane Smith|2024-08-02| 34|2000.75|        2001.0|\n",
            "|  3|   Jake White|2024-08-03| 18| 3000.1|        3000.0|\n",
            "|  4|   Jill Black|2024-08-04| 45|4000.25|        4000.0|\n",
            "|  5|  James Brown|2024-08-05| 29| 1500.3|        1500.0|\n",
            "|  6|Madhav Mishra|2024-08-06| 31|2500.45|        2500.0|\n",
            "+---+-------------+----------+---+-------+--------------+\n",
            "\n",
            "None\n",
            "+---+-------------+----------+---+-------+---------------+\n",
            "| id|         name|       dob|age| salary|brounded_salary|\n",
            "+---+-------------+----------+---+-------+---------------+\n",
            "|  1|     John Doe|2024-08-01| 23| 1000.5|         1000.0|\n",
            "|  2|   Jane Smith|2024-08-02| 34|2000.75|         2001.0|\n",
            "|  3|   Jake White|2024-08-03| 18| 3000.1|         3000.0|\n",
            "|  4|   Jill Black|2024-08-04| 45|4000.25|         4000.0|\n",
            "|  5|  James Brown|2024-08-05| 29| 1500.3|         1500.0|\n",
            "|  6|Madhav Mishra|2024-08-06| 31|2500.45|         2500.0|\n",
            "+---+-------------+----------+---+-------+---------------+\n",
            "\n",
            "None\n"
          ]
        }
      ]
    },
    {
      "cell_type": "code",
      "source": [
        "#degrees, radians\n",
        "#Converts an angle from radians to degrees or from degrees to radians.\n",
        "\n",
        "from pyspark.sql.functions import degrees, radians\n",
        "\n",
        "df_degrees = df.withColumn(\"degrees_value\", degrees(col(\"age\")))\n",
        "print(df_degrees.show())\n",
        "\n",
        "df_radians = df.withColumn(\"radians_value\", radians(col(\"age\")))\n",
        "print(df_radians.show())\n",
        "\n",
        "#df_all = df.withColumn(\"degrees_value\", degrees(col(\"age\"))).withColumn(\"radians_value\", radians(col(\"age\")))\n",
        "#df_all.show()\n",
        "\n"
      ],
      "metadata": {
        "colab": {
          "base_uri": "https://localhost:8080/"
        },
        "id": "eSIQQR3-cIHA",
        "outputId": "7871cddb-0ca4-41a4-cb08-abbb09baca31"
      },
      "execution_count": 66,
      "outputs": [
        {
          "output_type": "stream",
          "name": "stdout",
          "text": [
            "+---+-------------+----------+---+-------+------------------+\n",
            "| id|         name|       dob|age| salary|     degrees_value|\n",
            "+---+-------------+----------+---+-------+------------------+\n",
            "|  1|     John Doe|2024-08-01| 23| 1000.5|1317.8029288008934|\n",
            "|  2|   Jane Smith|2024-08-02| 34|2000.75| 1948.056503444799|\n",
            "|  3|   Jake White|2024-08-03| 18| 3000.1| 1031.324031235482|\n",
            "|  4|   Jill Black|2024-08-04| 45|4000.25|2578.3100780887044|\n",
            "|  5|  James Brown|2024-08-05| 29| 1500.3|1661.5776058793874|\n",
            "|  6|Madhav Mishra|2024-08-06| 31|2500.45| 1776.169164905552|\n",
            "+---+-------------+----------+---+-------+------------------+\n",
            "\n",
            "None\n",
            "+---+-------------+----------+---+-------+------------------+\n",
            "| id|         name|       dob|age| salary|     radians_value|\n",
            "+---+-------------+----------+---+-------+------------------+\n",
            "|  1|     John Doe|2024-08-01| 23| 1000.5|0.4014257279586958|\n",
            "|  2|   Jane Smith|2024-08-02| 34|2000.75|0.5934119456780721|\n",
            "|  3|   Jake White|2024-08-03| 18| 3000.1|0.3141592653589793|\n",
            "|  4|   Jill Black|2024-08-04| 45|4000.25|0.7853981633974483|\n",
            "|  5|  James Brown|2024-08-05| 29| 1500.3|0.5061454830783556|\n",
            "|  6|Madhav Mishra|2024-08-06| 31|2500.45|0.5410520681182421|\n",
            "+---+-------------+----------+---+-------+------------------+\n",
            "\n",
            "None\n"
          ]
        }
      ]
    },
    {
      "cell_type": "code",
      "source": [
        "#signum\n",
        "#Computes the signum of a number: -1 if it's negative, 0 if it's zero, and 1 if it's positive.\n",
        "\n",
        "from pyspark.sql.functions import signum\n",
        "\n",
        "df_signum = df.withColumn(\"signum_value\", signum(col(\"age\")))\n",
        "df_signum.show()"
      ],
      "metadata": {
        "colab": {
          "base_uri": "https://localhost:8080/"
        },
        "id": "X85mXKjlcZRa",
        "outputId": "b4ca5cd3-93d7-42d9-f4b6-37533812b70e"
      },
      "execution_count": 67,
      "outputs": [
        {
          "output_type": "stream",
          "name": "stdout",
          "text": [
            "+---+-------------+----------+---+-------+------------+\n",
            "| id|         name|       dob|age| salary|signum_value|\n",
            "+---+-------------+----------+---+-------+------------+\n",
            "|  1|     John Doe|2024-08-01| 23| 1000.5|         1.0|\n",
            "|  2|   Jane Smith|2024-08-02| 34|2000.75|         1.0|\n",
            "|  3|   Jake White|2024-08-03| 18| 3000.1|         1.0|\n",
            "|  4|   Jill Black|2024-08-04| 45|4000.25|         1.0|\n",
            "|  5|  James Brown|2024-08-05| 29| 1500.3|         1.0|\n",
            "|  6|Madhav Mishra|2024-08-06| 31|2500.45|         1.0|\n",
            "+---+-------------+----------+---+-------+------------+\n",
            "\n"
          ]
        }
      ]
    },
    {
      "cell_type": "code",
      "source": [
        "#hex, unhex\n",
        "#Converts a column to hexadecimal and back.\n",
        "\n",
        "from pyspark.sql.functions import hex, unhex\n",
        "\n",
        "# Create the 'hex_value' column within the 'df' DataFrame\n",
        "#df = df.withColumn(\"hex_value\", hex(col(\"age\")))\n",
        "#print(df.show())\n",
        "\n",
        "#df_unhex = df.withColumn(\"unhex_value\", unhex(col(\"hex_value\")))\n",
        "#print(df_unhex.show())\n",
        "\n",
        "\n",
        "\n",
        "\n",
        "from pyspark.sql.functions import hex, unhex\n",
        "\n",
        "df_all= df.withColumn(\"hex_name\", hex(col(\"id\"))).withColumn(\"unhex_name\", unhex(hex(col(\"id\"))))\n",
        "df_all.show()\n"
      ],
      "metadata": {
        "colab": {
          "base_uri": "https://localhost:8080/"
        },
        "id": "uIBodH8Wcg7L",
        "outputId": "41409590-51e0-45b5-f6d5-61b37504f120"
      },
      "execution_count": 70,
      "outputs": [
        {
          "output_type": "stream",
          "name": "stdout",
          "text": [
            "+---+-------------+----------+---+-------+---------+--------+----------+\n",
            "| id|         name|       dob|age| salary|hex_value|hex_name|unhex_name|\n",
            "+---+-------------+----------+---+-------+---------+--------+----------+\n",
            "|  1|     John Doe|2024-08-01| 23| 1000.5|       17|       1|      [01]|\n",
            "|  2|   Jane Smith|2024-08-02| 34|2000.75|       22|       2|      [02]|\n",
            "|  3|   Jake White|2024-08-03| 18| 3000.1|       12|       3|      [03]|\n",
            "|  4|   Jill Black|2024-08-04| 45|4000.25|       2D|       4|      [04]|\n",
            "|  5|  James Brown|2024-08-05| 29| 1500.3|       1D|       5|      [05]|\n",
            "|  6|Madhav Mishra|2024-08-06| 31|2500.45|       1F|       6|      [06]|\n",
            "+---+-------------+----------+---+-------+---------+--------+----------+\n",
            "\n"
          ]
        }
      ]
    },
    {
      "cell_type": "code",
      "source": [
        "#nvl, nvl2\n",
        "#Replaces null values with the specified value.\n",
        "\n",
        "from pyspark.sql.functions import nvl, nvl2, col\n",
        "\n",
        "df_nvl = df.withColumn(\"nvl_age\", nvl(col(\"age\"), col(\"id\"))) # Replace 0 with a column object\n",
        "print(df_nvl.show())\n",
        "\n",
        "df_nvl2 = df.withColumn(\"nvl2_age\", nvl2(col(\"age\"), col(\"id\"), col(\"salary\"))) # Replace 0 and 10 with column objects\n",
        "print(df_nvl2.show())\n",
        "\n",
        "# df_all = df.withColumn(\"nvl_column\", expr(\"nvl(null, 'default')\"))\n",
        "# df_all.show()\n"
      ],
      "metadata": {
        "colab": {
          "base_uri": "https://localhost:8080/"
        },
        "id": "l6fuJUMBctSQ",
        "outputId": "1fa9b13e-8538-49fa-91a8-957c8aa83257"
      },
      "execution_count": 72,
      "outputs": [
        {
          "output_type": "stream",
          "name": "stdout",
          "text": [
            "+---+-------------+----------+---+-------+---------+-------+\n",
            "| id|         name|       dob|age| salary|hex_value|nvl_age|\n",
            "+---+-------------+----------+---+-------+---------+-------+\n",
            "|  1|     John Doe|2024-08-01| 23| 1000.5|       17|     23|\n",
            "|  2|   Jane Smith|2024-08-02| 34|2000.75|       22|     34|\n",
            "|  3|   Jake White|2024-08-03| 18| 3000.1|       12|     18|\n",
            "|  4|   Jill Black|2024-08-04| 45|4000.25|       2D|     45|\n",
            "|  5|  James Brown|2024-08-05| 29| 1500.3|       1D|     29|\n",
            "|  6|Madhav Mishra|2024-08-06| 31|2500.45|       1F|     31|\n",
            "+---+-------------+----------+---+-------+---------+-------+\n",
            "\n",
            "None\n",
            "+---+-------------+----------+---+-------+---------+--------+\n",
            "| id|         name|       dob|age| salary|hex_value|nvl2_age|\n",
            "+---+-------------+----------+---+-------+---------+--------+\n",
            "|  1|     John Doe|2024-08-01| 23| 1000.5|       17|     1.0|\n",
            "|  2|   Jane Smith|2024-08-02| 34|2000.75|       22|     2.0|\n",
            "|  3|   Jake White|2024-08-03| 18| 3000.1|       12|     3.0|\n",
            "|  4|   Jill Black|2024-08-04| 45|4000.25|       2D|     4.0|\n",
            "|  5|  James Brown|2024-08-05| 29| 1500.3|       1D|     5.0|\n",
            "|  6|Madhav Mishra|2024-08-06| 31|2500.45|       1F|     6.0|\n",
            "+---+-------------+----------+---+-------+---------+--------+\n",
            "\n",
            "None\n"
          ]
        }
      ]
    },
    {
      "cell_type": "code",
      "source": [
        "#reverse\n",
        "#Reverses the string in a column.\n",
        "\n",
        "from pyspark.sql.functions import reverse\n",
        "\n",
        "df_reverse = df.withColumn(\"reversed_name\", reverse(col(\"name\")))\n",
        "df_reverse.show()"
      ],
      "metadata": {
        "colab": {
          "base_uri": "https://localhost:8080/"
        },
        "id": "184gIc7aeDkT",
        "outputId": "8eb225d5-0a9a-4452-a0a4-c2414f0ab2d6"
      },
      "execution_count": 73,
      "outputs": [
        {
          "output_type": "stream",
          "name": "stdout",
          "text": [
            "+---+-------------+----------+---+-------+---------+-------------+\n",
            "| id|         name|       dob|age| salary|hex_value|reversed_name|\n",
            "+---+-------------+----------+---+-------+---------+-------------+\n",
            "|  1|     John Doe|2024-08-01| 23| 1000.5|       17|     eoD nhoJ|\n",
            "|  2|   Jane Smith|2024-08-02| 34|2000.75|       22|   htimS enaJ|\n",
            "|  3|   Jake White|2024-08-03| 18| 3000.1|       12|   etihW ekaJ|\n",
            "|  4|   Jill Black|2024-08-04| 45|4000.25|       2D|   kcalB lliJ|\n",
            "|  5|  James Brown|2024-08-05| 29| 1500.3|       1D|  nworB semaJ|\n",
            "|  6|Madhav Mishra|2024-08-06| 31|2500.45|       1F|arhsiM vahdaM|\n",
            "+---+-------------+----------+---+-------+---------+-------------+\n",
            "\n"
          ]
        }
      ]
    },
    {
      "cell_type": "code",
      "source": [
        "#initcap\n",
        "#Converts the first letter of each word to uppercase.\n",
        "\n",
        "from pyspark.sql.functions import initcap\n",
        "\n",
        "df_initcap = df.withColumn(\"capitalized_name\", initcap(col(\"name\")))\n",
        "df_initcap.show()"
      ],
      "metadata": {
        "colab": {
          "base_uri": "https://localhost:8080/"
        },
        "id": "6dqt-arjemvi",
        "outputId": "9612ac91-ac40-487c-cd4c-e6f616a8b598"
      },
      "execution_count": 74,
      "outputs": [
        {
          "output_type": "stream",
          "name": "stdout",
          "text": [
            "+---+-------------+----------+---+-------+---------+----------------+\n",
            "| id|         name|       dob|age| salary|hex_value|capitalized_name|\n",
            "+---+-------------+----------+---+-------+---------+----------------+\n",
            "|  1|     John Doe|2024-08-01| 23| 1000.5|       17|        John Doe|\n",
            "|  2|   Jane Smith|2024-08-02| 34|2000.75|       22|      Jane Smith|\n",
            "|  3|   Jake White|2024-08-03| 18| 3000.1|       12|      Jake White|\n",
            "|  4|   Jill Black|2024-08-04| 45|4000.25|       2D|      Jill Black|\n",
            "|  5|  James Brown|2024-08-05| 29| 1500.3|       1D|     James Brown|\n",
            "|  6|Madhav Mishra|2024-08-06| 31|2500.45|       1F|   Madhav Mishra|\n",
            "+---+-------------+----------+---+-------+---------+----------------+\n",
            "\n"
          ]
        }
      ]
    },
    {
      "cell_type": "code",
      "source": [
        "#instr\n",
        "#Returns the position of the first occurrence of a substring.\n",
        "\n",
        "from pyspark.sql.functions import instr\n",
        "\n",
        "df_instr = df.withColumn(\"position_of_a\", instr(col(\"name\"), \"a\"))\n",
        "print(df_instr.show())\n",
        "print(df_instr.printSchema())\n",
        "\n",
        "#df_instr = df.withColumn(\"position\", instr(col(\"name\"), \"Doe\"))\n",
        "#df_instr.show()"
      ],
      "metadata": {
        "colab": {
          "base_uri": "https://localhost:8080/"
        },
        "id": "RsgzOKisezy6",
        "outputId": "371a24f7-748b-4cde-a8d0-2bf658d155b6"
      },
      "execution_count": 78,
      "outputs": [
        {
          "output_type": "stream",
          "name": "stdout",
          "text": [
            "+---+-------------+----------+---+-------+---------+-------------+\n",
            "| id|         name|       dob|age| salary|hex_value|position_of_a|\n",
            "+---+-------------+----------+---+-------+---------+-------------+\n",
            "|  1|     John Doe|2024-08-01| 23| 1000.5|       17|            0|\n",
            "|  2|   Jane Smith|2024-08-02| 34|2000.75|       22|            2|\n",
            "|  3|   Jake White|2024-08-03| 18| 3000.1|       12|            2|\n",
            "|  4|   Jill Black|2024-08-04| 45|4000.25|       2D|            8|\n",
            "|  5|  James Brown|2024-08-05| 29| 1500.3|       1D|            2|\n",
            "|  6|Madhav Mishra|2024-08-06| 31|2500.45|       1F|            2|\n",
            "+---+-------------+----------+---+-------+---------+-------------+\n",
            "\n",
            "None\n",
            "root\n",
            " |-- id: long (nullable = true)\n",
            " |-- name: string (nullable = true)\n",
            " |-- dob: string (nullable = true)\n",
            " |-- age: long (nullable = true)\n",
            " |-- salary: double (nullable = true)\n",
            " |-- hex_value: string (nullable = true)\n",
            " |-- position_of_a: integer (nullable = true)\n",
            "\n",
            "None\n"
          ]
        }
      ]
    },
    {
      "cell_type": "code",
      "source": [
        "#locate\n",
        "#Similar to instr, but can start the search from a specified position.\n",
        "from pyspark.sql.functions import locate\n",
        "\n",
        "df_locate = df.withColumn(\"locate_doe\", locate(\"Doe\", col(\"name\")))\n",
        "df_locate.show()\n"
      ],
      "metadata": {
        "colab": {
          "base_uri": "https://localhost:8080/"
        },
        "id": "VLSMOT65e-Z1",
        "outputId": "db6591cb-d645-422b-e6b3-c1892214c53b"
      },
      "execution_count": 79,
      "outputs": [
        {
          "output_type": "stream",
          "name": "stdout",
          "text": [
            "+---+-------------+----------+---+-------+---------+----------+\n",
            "| id|         name|       dob|age| salary|hex_value|locate_doe|\n",
            "+---+-------------+----------+---+-------+---------+----------+\n",
            "|  1|     John Doe|2024-08-01| 23| 1000.5|       17|         6|\n",
            "|  2|   Jane Smith|2024-08-02| 34|2000.75|       22|         0|\n",
            "|  3|   Jake White|2024-08-03| 18| 3000.1|       12|         0|\n",
            "|  4|   Jill Black|2024-08-04| 45|4000.25|       2D|         0|\n",
            "|  5|  James Brown|2024-08-05| 29| 1500.3|       1D|         0|\n",
            "|  6|Madhav Mishra|2024-08-06| 31|2500.45|       1F|         0|\n",
            "+---+-------------+----------+---+-------+---------+----------+\n",
            "\n"
          ]
        }
      ]
    },
    {
      "cell_type": "code",
      "source": [
        "#soundex\n",
        "#Converts a string to its Soundex code, useful for phonetic matching\n",
        "\n",
        "from pyspark.sql.functions import soundex\n",
        "\n",
        "df_soundex = df.withColumn(\"soundex_name\", soundex(col(\"name\")))\n",
        "df_soundex.show()\n"
      ],
      "metadata": {
        "colab": {
          "base_uri": "https://localhost:8080/"
        },
        "id": "n43sYLBSfy0n",
        "outputId": "a95cee3b-08b5-4505-ae8a-0c001ed274bb"
      },
      "execution_count": 80,
      "outputs": [
        {
          "output_type": "stream",
          "name": "stdout",
          "text": [
            "+---+-------------+----------+---+-------+---------+------------+\n",
            "| id|         name|       dob|age| salary|hex_value|soundex_name|\n",
            "+---+-------------+----------+---+-------+---------+------------+\n",
            "|  1|     John Doe|2024-08-01| 23| 1000.5|       17|        J530|\n",
            "|  2|   Jane Smith|2024-08-02| 34|2000.75|       22|        J525|\n",
            "|  3|   Jake White|2024-08-03| 18| 3000.1|       12|        J230|\n",
            "|  4|   Jill Black|2024-08-04| 45|4000.25|       2D|        J414|\n",
            "|  5|  James Brown|2024-08-05| 29| 1500.3|       1D|        J521|\n",
            "|  6|Madhav Mishra|2024-08-06| 31|2500.45|       1F|        M315|\n",
            "+---+-------------+----------+---+-------+---------+------------+\n",
            "\n"
          ]
        }
      ]
    },
    {
      "cell_type": "code",
      "source": [
        "#levenshtein\n",
        "#Computes the Levenshtein distance between two strings.\n",
        "\n",
        "from pyspark.sql.functions import levenshtein\n",
        "\n",
        "df_levenshtein = df.withColumn(\"levenshtein_distance\", levenshtein(col(\"name\"), lit(\"Jon Doe\")))\n",
        "df_levenshtein.show()\n"
      ],
      "metadata": {
        "colab": {
          "base_uri": "https://localhost:8080/"
        },
        "id": "JSHnGmV2gLG5",
        "outputId": "bd548f01-cf99-4d71-95aa-5d69caa9b5f1"
      },
      "execution_count": 83,
      "outputs": [
        {
          "output_type": "stream",
          "name": "stdout",
          "text": [
            "+---+-------------+----------+---+-------+---------+--------------------+\n",
            "| id|         name|       dob|age| salary|hex_value|levenshtein_distance|\n",
            "+---+-------------+----------+---+-------+---------+--------------------+\n",
            "|  1|     John Doe|2024-08-01| 23| 1000.5|       17|                   1|\n",
            "|  2|   Jane Smith|2024-08-02| 34|2000.75|       22|                   7|\n",
            "|  3|   Jake White|2024-08-03| 18| 3000.1|       12|                   7|\n",
            "|  4|   Jill Black|2024-08-04| 45|4000.25|       2D|                   8|\n",
            "|  5|  James Brown|2024-08-05| 29| 1500.3|       1D|                   8|\n",
            "|  6|Madhav Mishra|2024-08-06| 31|2500.45|       1F|                  12|\n",
            "+---+-------------+----------+---+-------+---------+--------------------+\n",
            "\n"
          ]
        }
      ]
    },
    {
      "cell_type": "code",
      "source": [
        "#conv\n",
        "#Converts a number from one base to another.\n",
        "\n",
        "from pyspark.sql.functions import conv\n",
        "\n",
        "df_conv = df.withColumn(\"binary_value\", conv(col(\"id\"), 10, 2))\n",
        "df_conv.show()\n"
      ],
      "metadata": {
        "colab": {
          "base_uri": "https://localhost:8080/"
        },
        "id": "KMghw1GmgSFT",
        "outputId": "8651f3d4-985c-4a51-8eb2-c8b906eeaf90"
      },
      "execution_count": 84,
      "outputs": [
        {
          "output_type": "stream",
          "name": "stdout",
          "text": [
            "+---+-------------+----------+---+-------+---------+------------+\n",
            "| id|         name|       dob|age| salary|hex_value|binary_value|\n",
            "+---+-------------+----------+---+-------+---------+------------+\n",
            "|  1|     John Doe|2024-08-01| 23| 1000.5|       17|           1|\n",
            "|  2|   Jane Smith|2024-08-02| 34|2000.75|       22|          10|\n",
            "|  3|   Jake White|2024-08-03| 18| 3000.1|       12|          11|\n",
            "|  4|   Jill Black|2024-08-04| 45|4000.25|       2D|         100|\n",
            "|  5|  James Brown|2024-08-05| 29| 1500.3|       1D|         101|\n",
            "|  6|Madhav Mishra|2024-08-06| 31|2500.45|       1F|         110|\n",
            "+---+-------------+----------+---+-------+---------+------------+\n",
            "\n"
          ]
        }
      ]
    },
    {
      "cell_type": "code",
      "source": [
        "#translate\n",
        "#Replaces characters in a string with other characters.\n",
        "\n",
        "from pyspark.sql.functions import translate\n",
        "\n",
        "df_translate = df.withColumn(\"translated_name\", translate(col(\"name\"), \"o\", \"a\"))\n",
        "df_translate.show()\n",
        "\n"
      ],
      "metadata": {
        "colab": {
          "base_uri": "https://localhost:8080/"
        },
        "id": "3jleOy9Vgmne",
        "outputId": "362da3be-6147-443b-eba0-2369de719429"
      },
      "execution_count": 86,
      "outputs": [
        {
          "output_type": "stream",
          "name": "stdout",
          "text": [
            "+---+-------------+----------+---+-------+---------+---------------+\n",
            "| id|         name|       dob|age| salary|hex_value|translated_name|\n",
            "+---+-------------+----------+---+-------+---------+---------------+\n",
            "|  1|     John Doe|2024-08-01| 23| 1000.5|       17|       Jahn Dae|\n",
            "|  2|   Jane Smith|2024-08-02| 34|2000.75|       22|     Jane Smith|\n",
            "|  3|   Jake White|2024-08-03| 18| 3000.1|       12|     Jake White|\n",
            "|  4|   Jill Black|2024-08-04| 45|4000.25|       2D|     Jill Black|\n",
            "|  5|  James Brown|2024-08-05| 29| 1500.3|       1D|    James Brawn|\n",
            "|  6|Madhav Mishra|2024-08-06| 31|2500.45|       1F|  Madhav Mishra|\n",
            "+---+-------------+----------+---+-------+---------+---------------+\n",
            "\n"
          ]
        }
      ]
    },
    {
      "cell_type": "code",
      "source": [
        "#crc32\n",
        "#Computes a cyclic redundancy check value\n",
        "\n",
        "from pyspark.sql.functions import crc32\n",
        "\n",
        "df_crc32 = df.withColumn(\"crc32_name\", crc32(col(\"name\")))\n",
        "df_crc32.show()\n"
      ],
      "metadata": {
        "colab": {
          "base_uri": "https://localhost:8080/"
        },
        "id": "boFMqgYYgscp",
        "outputId": "6005f40f-b31f-4dcc-efd6-aef55261a995"
      },
      "execution_count": 87,
      "outputs": [
        {
          "output_type": "stream",
          "name": "stdout",
          "text": [
            "+---+-------------+----------+---+-------+---------+----------+\n",
            "| id|         name|       dob|age| salary|hex_value|crc32_name|\n",
            "+---+-------------+----------+---+-------+---------+----------+\n",
            "|  1|     John Doe|2024-08-01| 23| 1000.5|       17|1782059462|\n",
            "|  2|   Jane Smith|2024-08-02| 34|2000.75|       22|3280634359|\n",
            "|  3|   Jake White|2024-08-03| 18| 3000.1|       12| 931505628|\n",
            "|  4|   Jill Black|2024-08-04| 45|4000.25|       2D|3628743810|\n",
            "|  5|  James Brown|2024-08-05| 29| 1500.3|       1D|3837056040|\n",
            "|  6|Madhav Mishra|2024-08-06| 31|2500.45|       1F|3046363580|\n",
            "+---+-------------+----------+---+-------+---------+----------+\n",
            "\n"
          ]
        }
      ]
    },
    {
      "cell_type": "code",
      "source": [
        "#uuid\n",
        "#Generates a column of UUIDs.\n",
        "\n",
        "from pyspark.sql.functions import expr\n",
        "\n",
        "df_uuid = df.withColumn(\"uuid\", expr(\"uuid()\"))\n",
        "\n",
        "df_uuid.show(truncate = False)\n",
        "\n"
      ],
      "metadata": {
        "colab": {
          "base_uri": "https://localhost:8080/"
        },
        "id": "mR7aqNsZhDHa",
        "outputId": "a488d243-fe57-4de7-c441-c63ef99482d4"
      },
      "execution_count": 90,
      "outputs": [
        {
          "output_type": "stream",
          "name": "stdout",
          "text": [
            "+---+-------------+----------+---+-------+---------+------------------------------------+\n",
            "|id |name         |dob       |age|salary |hex_value|uuid                                |\n",
            "+---+-------------+----------+---+-------+---------+------------------------------------+\n",
            "|1  |John Doe     |2024-08-01|23 |1000.5 |17       |357e9744-9632-441e-bc51-65af8852f79a|\n",
            "|2  |Jane Smith   |2024-08-02|34 |2000.75|22       |9a05fd51-b9b9-4981-905a-8796bce1fb4d|\n",
            "|3  |Jake White   |2024-08-03|18 |3000.1 |12       |4015d93c-c04b-466c-bbcd-e4624e65defa|\n",
            "|4  |Jill Black   |2024-08-04|45 |4000.25|2D       |143c8d30-cd29-4347-bebb-c61ef2674d82|\n",
            "|5  |James Brown  |2024-08-05|29 |1500.3 |1D       |8f3c80a5-29f8-4008-b14a-129cf4a81f39|\n",
            "|6  |Madhav Mishra|2024-08-06|31 |2500.45|1F       |557e3429-720a-4c34-ae07-e7cd8c899c8d|\n",
            "+---+-------------+----------+---+-------+---------+------------------------------------+\n",
            "\n"
          ]
        }
      ]
    },
    {
      "cell_type": "code",
      "source": [
        "#percent_rank\n",
        "#Computes the percent rank of a row within a window partition.\n",
        "\n",
        "from pyspark.sql.functions import percent_rank\n",
        "\n",
        "windowSpec = Window.orderBy(col(\"salary\").desc())\n",
        "\n",
        "df_percent_rank = df.withColumn(\"percent_rank\", percent_rank().over(windowSpec))\n",
        "df_percent_rank.show()\n",
        "\n"
      ],
      "metadata": {
        "colab": {
          "base_uri": "https://localhost:8080/"
        },
        "id": "xKzE32FBhIvz",
        "outputId": "c871c467-e5f4-4d3c-bcc2-7793b688cf32"
      },
      "execution_count": 91,
      "outputs": [
        {
          "output_type": "stream",
          "name": "stdout",
          "text": [
            "+---+-------------+----------+---+-------+---------+------------+\n",
            "| id|         name|       dob|age| salary|hex_value|percent_rank|\n",
            "+---+-------------+----------+---+-------+---------+------------+\n",
            "|  4|   Jill Black|2024-08-04| 45|4000.25|       2D|         0.0|\n",
            "|  3|   Jake White|2024-08-03| 18| 3000.1|       12|         0.2|\n",
            "|  6|Madhav Mishra|2024-08-06| 31|2500.45|       1F|         0.4|\n",
            "|  2|   Jane Smith|2024-08-02| 34|2000.75|       22|         0.6|\n",
            "|  5|  James Brown|2024-08-05| 29| 1500.3|       1D|         0.8|\n",
            "|  1|     John Doe|2024-08-01| 23| 1000.5|       17|         1.0|\n",
            "+---+-------------+----------+---+-------+---------+------------+\n",
            "\n"
          ]
        }
      ]
    },
    {
      "cell_type": "code",
      "source": [
        "#cume_dist\n",
        "#Computes the cumulative distribution of a value in a group of values.\n",
        "\n",
        "from pyspark.sql.functions import cume_dist\n",
        "\n",
        "df_cume_dist = df.withColumn(\"cume_dist\", cume_dist().over(windowSpec))\n",
        "df_cume_dist.show()\n",
        "\n"
      ],
      "metadata": {
        "colab": {
          "base_uri": "https://localhost:8080/"
        },
        "id": "NUDFcZt7hcZb",
        "outputId": "11bcc52e-1465-42f5-a0e3-65badb8d4792"
      },
      "execution_count": 92,
      "outputs": [
        {
          "output_type": "stream",
          "name": "stdout",
          "text": [
            "+---+-------------+----------+---+-------+---------+-------------------+\n",
            "| id|         name|       dob|age| salary|hex_value|          cume_dist|\n",
            "+---+-------------+----------+---+-------+---------+-------------------+\n",
            "|  4|   Jill Black|2024-08-04| 45|4000.25|       2D|0.16666666666666666|\n",
            "|  3|   Jake White|2024-08-03| 18| 3000.1|       12| 0.3333333333333333|\n",
            "|  6|Madhav Mishra|2024-08-06| 31|2500.45|       1F|                0.5|\n",
            "|  2|   Jane Smith|2024-08-02| 34|2000.75|       22| 0.6666666666666666|\n",
            "|  5|  James Brown|2024-08-05| 29| 1500.3|       1D| 0.8333333333333334|\n",
            "|  1|     John Doe|2024-08-01| 23| 1000.5|       17|                1.0|\n",
            "+---+-------------+----------+---+-------+---------+-------------------+\n",
            "\n"
          ]
        }
      ]
    },
    {
      "cell_type": "code",
      "source": [
        "#ntile\n",
        "#Distributes rows of an ordered partition into a specified number of buckets.\n",
        "\n",
        "from pyspark.sql.functions import ntile\n",
        "\n",
        "df_ntile = df.withColumn(\"ntile\", ntile(3).over(windowSpec))\n",
        "df_ntile.show()"
      ],
      "metadata": {
        "colab": {
          "base_uri": "https://localhost:8080/"
        },
        "id": "i_zpJjj7hi8H",
        "outputId": "9841d530-65f4-4f01-cd5d-e3fb91c117e3"
      },
      "execution_count": 93,
      "outputs": [
        {
          "output_type": "stream",
          "name": "stdout",
          "text": [
            "+---+-------------+----------+---+-------+---------+-----+\n",
            "| id|         name|       dob|age| salary|hex_value|ntile|\n",
            "+---+-------------+----------+---+-------+---------+-----+\n",
            "|  4|   Jill Black|2024-08-04| 45|4000.25|       2D|    1|\n",
            "|  3|   Jake White|2024-08-03| 18| 3000.1|       12|    1|\n",
            "|  6|Madhav Mishra|2024-08-06| 31|2500.45|       1F|    2|\n",
            "|  2|   Jane Smith|2024-08-02| 34|2000.75|       22|    2|\n",
            "|  5|  James Brown|2024-08-05| 29| 1500.3|       1D|    3|\n",
            "|  1|     John Doe|2024-08-01| 23| 1000.5|       17|    3|\n",
            "+---+-------------+----------+---+-------+---------+-----+\n",
            "\n"
          ]
        }
      ]
    },
    {
      "cell_type": "code",
      "source": [
        "#flatten\n",
        "#Flattens an array of arrays into a single array.\n",
        "\n",
        "from pyspark.sql.functions import flatten\n",
        "\n",
        "df_flatten = df.withColumn(\"flattened_array\", flatten(array(array(lit(1), lit(2)), array(lit(3)))))\n",
        "\n",
        "df_flatten.show()"
      ],
      "metadata": {
        "colab": {
          "base_uri": "https://localhost:8080/"
        },
        "id": "43gozAFUhq2n",
        "outputId": "718765c7-f501-4b97-c617-48be4f57a4a7"
      },
      "execution_count": 96,
      "outputs": [
        {
          "output_type": "stream",
          "name": "stdout",
          "text": [
            "+---+-------------+----------+---+-------+---------+---------------+\n",
            "| id|         name|       dob|age| salary|hex_value|flattened_array|\n",
            "+---+-------------+----------+---+-------+---------+---------------+\n",
            "|  1|     John Doe|2024-08-01| 23| 1000.5|       17|      [1, 2, 3]|\n",
            "|  2|   Jane Smith|2024-08-02| 34|2000.75|       22|      [1, 2, 3]|\n",
            "|  3|   Jake White|2024-08-03| 18| 3000.1|       12|      [1, 2, 3]|\n",
            "|  4|   Jill Black|2024-08-04| 45|4000.25|       2D|      [1, 2, 3]|\n",
            "|  5|  James Brown|2024-08-05| 29| 1500.3|       1D|      [1, 2, 3]|\n",
            "|  6|Madhav Mishra|2024-08-06| 31|2500.45|       1F|      [1, 2, 3]|\n",
            "+---+-------------+----------+---+-------+---------+---------------+\n",
            "\n"
          ]
        }
      ]
    },
    {
      "cell_type": "code",
      "source": [
        "#grouping_id\n",
        "#Returns the level of grouping applied.\n",
        "\n",
        "from pyspark.sql.functions import grouping_id\n",
        "from pyspark.sql import functions as F\n",
        "\n",
        "# Use GroupingSets to create multiple grouping levels\n",
        "df_grouping_sets = df.cube(\"age\", \"salary\").agg(grouping_id().alias(\"grouping_id\"), F.sum(\"salary\"))\n",
        "df_grouping_sets.show()"
      ],
      "metadata": {
        "colab": {
          "base_uri": "https://localhost:8080/"
        },
        "id": "xVfUgHF4hy7o",
        "outputId": "6ae3f1ce-935c-442c-aba1-dce454e2ac37"
      },
      "execution_count": 101,
      "outputs": [
        {
          "output_type": "stream",
          "name": "stdout",
          "text": [
            "+----+-------+-----------+-----------+\n",
            "| age| salary|grouping_id|sum(salary)|\n",
            "+----+-------+-----------+-----------+\n",
            "|NULL| 1000.5|          2|     1000.5|\n",
            "|  34|   NULL|          1|    2000.75|\n",
            "|NULL| 3000.1|          2|     3000.1|\n",
            "|NULL|   NULL|          3|   14002.35|\n",
            "|  23|   NULL|          1|     1000.5|\n",
            "|  34|2000.75|          0|    2000.75|\n",
            "|NULL|2000.75|          2|    2000.75|\n",
            "|  23| 1000.5|          0|     1000.5|\n",
            "|  18| 3000.1|          0|     3000.1|\n",
            "|  18|   NULL|          1|     3000.1|\n",
            "|  29| 1500.3|          0|     1500.3|\n",
            "|NULL| 1500.3|          2|     1500.3|\n",
            "|  45|   NULL|          1|    4000.25|\n",
            "|NULL|4000.25|          2|    4000.25|\n",
            "|  29|   NULL|          1|     1500.3|\n",
            "|  45|4000.25|          0|    4000.25|\n",
            "|NULL|2500.45|          2|    2500.45|\n",
            "|  31|   NULL|          1|    2500.45|\n",
            "|  31|2500.45|          0|    2500.45|\n",
            "+----+-------+-----------+-----------+\n",
            "\n"
          ]
        }
      ]
    },
    {
      "cell_type": "code",
      "source": [
        "#rollup\n",
        "#Used for multi-dimensional aggregates, similar to cube but with a subset of it.\n",
        "\n",
        "#from pyspark.sql.functions import rollup\n",
        "\n",
        "df_rollup = df.rollup(\"age\", \"salary\").count()\n",
        "df_rollup.show()\n"
      ],
      "metadata": {
        "colab": {
          "base_uri": "https://localhost:8080/"
        },
        "id": "dGe8m9aqiQpa",
        "outputId": "50c26b1f-6fa5-41f0-8971-9ead69b4795a"
      },
      "execution_count": 104,
      "outputs": [
        {
          "output_type": "stream",
          "name": "stdout",
          "text": [
            "+----+-------+-----+\n",
            "| age| salary|count|\n",
            "+----+-------+-----+\n",
            "|  34|   NULL|    1|\n",
            "|NULL|   NULL|    6|\n",
            "|  23|   NULL|    1|\n",
            "|  34|2000.75|    1|\n",
            "|  23| 1000.5|    1|\n",
            "|  18| 3000.1|    1|\n",
            "|  18|   NULL|    1|\n",
            "|  29| 1500.3|    1|\n",
            "|  45|   NULL|    1|\n",
            "|  29|   NULL|    1|\n",
            "|  45|4000.25|    1|\n",
            "|  31|   NULL|    1|\n",
            "|  31|2500.45|    1|\n",
            "+----+-------+-----+\n",
            "\n"
          ]
        }
      ]
    },
    {
      "cell_type": "code",
      "source": [
        "#corr\n",
        "#Returns the Pearson correlation coefficient between two columns.\n",
        "\n",
        "from pyspark.sql.functions import corr\n",
        "\n",
        "df_corr = df.select(corr(col(\"age\"), col(\"salary\")))\n",
        "df_corr.show()"
      ],
      "metadata": {
        "colab": {
          "base_uri": "https://localhost:8080/"
        },
        "id": "dZ5yQlNhi0Or",
        "outputId": "3a2bfad8-ae28-4b77-d36d-f69e51430f0c"
      },
      "execution_count": 105,
      "outputs": [
        {
          "output_type": "stream",
          "name": "stdout",
          "text": [
            "+------------------+\n",
            "| corr(age, salary)|\n",
            "+------------------+\n",
            "|0.5156484761493896|\n",
            "+------------------+\n",
            "\n"
          ]
        }
      ]
    },
    {
      "cell_type": "code",
      "source": [
        "#collect_list\n",
        "#Returns all values from an aggregated group as a list.\n",
        "\n",
        "from pyspark.sql.functions import collect_list\n",
        "\n",
        "#df_collect_list = df.groupBy(\"age\").agg(collect_list(\"salary\").alias(\"salary_list\"))\n",
        "#df_collect_list.show()\n",
        "\n",
        "from pyspark.sql.functions import collect_list\n",
        "\n",
        "df_all = df.groupBy(\"age\").agg(collect_list(\"name\").alias(\"names\")).show()\n",
        "df_all"
      ],
      "metadata": {
        "colab": {
          "base_uri": "https://localhost:8080/"
        },
        "id": "dlkDx6p_jGSs",
        "outputId": "b7c14726-67e6-4461-85e0-ef207b43c415"
      },
      "execution_count": 109,
      "outputs": [
        {
          "output_type": "stream",
          "name": "stdout",
          "text": [
            "+---+---------------+\n",
            "|age|          names|\n",
            "+---+---------------+\n",
            "| 34|   [Jane Smith]|\n",
            "| 18|   [Jake White]|\n",
            "| 23|     [John Doe]|\n",
            "| 29|  [James Brown]|\n",
            "| 31|[Madhav Mishra]|\n",
            "| 45|   [Jill Black]|\n",
            "+---+---------------+\n",
            "\n"
          ]
        }
      ]
    },
    {
      "cell_type": "code",
      "source": [],
      "metadata": {
        "id": "EVxWEwFkjOa0"
      },
      "execution_count": null,
      "outputs": []
    }
  ]
}