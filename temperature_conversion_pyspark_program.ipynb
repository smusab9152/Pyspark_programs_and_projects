{
  "nbformat": 4,
  "nbformat_minor": 0,
  "metadata": {
    "colab": {
      "provenance": []
    },
    "kernelspec": {
      "name": "python3",
      "display_name": "Python 3"
    },
    "language_info": {
      "name": "python"
    }
  },
  "cells": [
    {
      "cell_type": "code",
      "execution_count": 1,
      "metadata": {
        "id": "7wwmgWTisPdC"
      },
      "outputs": [],
      "source": [
        "from pyspark import SparkConf , SparkContext"
      ]
    },
    {
      "cell_type": "code",
      "source": [
        "#Initialize Spark Context\n",
        "conf = SparkConf().setAppName(\"PySparkTemperatureConversion\").setMaster(\"local\")\n",
        "sc= SparkContext(conf = conf)"
      ],
      "metadata": {
        "id": "pQLtXWaisVgs"
      },
      "execution_count": 2,
      "outputs": []
    },
    {
      "cell_type": "code",
      "source": [
        "#Create an RDD from the list of temperature in Celsius\n",
        "celsius_temps = [0,20,30,40,100]\n",
        "rdd = sc.parallelize(celsius_temps)"
      ],
      "metadata": {
        "id": "cUdqNPLtsXkz"
      },
      "execution_count": 3,
      "outputs": []
    },
    {
      "cell_type": "code",
      "source": [
        "#Tranformation: Convert Celsius to Fahrenheit\n",
        "fahrenheit_rdd = rdd.map(lambda c: (c,(c*9/5)+32))"
      ],
      "metadata": {
        "id": "U6bvr7jLsaxr"
      },
      "execution_count": 4,
      "outputs": []
    },
    {
      "cell_type": "code",
      "source": [
        "#Action: Collect the results\n",
        "farhenheit_temps = fahrenheit_rdd.collect()"
      ],
      "metadata": {
        "id": "Sf-gvH6HshXs"
      },
      "execution_count": 5,
      "outputs": []
    },
    {
      "cell_type": "code",
      "source": [
        "#Print the results\n",
        "for c, f in farhenheit_temps:\n",
        "\tprint(f\"{c}C = {f}F\")"
      ],
      "metadata": {
        "colab": {
          "base_uri": "https://localhost:8080/"
        },
        "id": "H36Pnss6ssDs",
        "outputId": "cbe0ee5c-b7d3-4e72-b9d9-2526de94d39f"
      },
      "execution_count": 6,
      "outputs": [
        {
          "output_type": "stream",
          "name": "stdout",
          "text": [
            "0C = 32.0F\n",
            "20C = 68.0F\n",
            "30C = 86.0F\n",
            "40C = 104.0F\n",
            "100C = 212.0F\n"
          ]
        }
      ]
    },
    {
      "cell_type": "code",
      "source": [
        "#Stop the Spark context\n",
        "sc.stop()"
      ],
      "metadata": {
        "id": "CQ8VZHKvs1Ut"
      },
      "execution_count": 7,
      "outputs": []
    },
    {
      "cell_type": "code",
      "source": [],
      "metadata": {
        "id": "d3y-plLzs14N"
      },
      "execution_count": null,
      "outputs": []
    }
  ]
}