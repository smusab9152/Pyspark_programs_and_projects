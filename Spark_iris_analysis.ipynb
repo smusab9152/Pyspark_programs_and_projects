{
  "nbformat": 4,
  "nbformat_minor": 0,
  "metadata": {
    "colab": {
      "provenance": []
    },
    "kernelspec": {
      "name": "python3",
      "display_name": "Python 3"
    },
    "language_info": {
      "name": "python"
    }
  },
  "cells": [
    {
      "cell_type": "code",
      "source": [
        "pip install pyspark"
      ],
      "metadata": {
        "colab": {
          "base_uri": "https://localhost:8080/"
        },
        "id": "-19WxuFWgAoy",
        "outputId": "d54a7730-aa0c-4b8f-eae6-b344d19084c2"
      },
      "execution_count": 2,
      "outputs": [
        {
          "output_type": "stream",
          "name": "stdout",
          "text": [
            "Collecting pyspark\n",
            "  Downloading pyspark-3.5.1.tar.gz (317.0 MB)\n",
            "\u001b[2K     \u001b[90m━━━━━━━━━━━━━━━━━━━━━━━━━━━━━━━━━━━━━━━━\u001b[0m \u001b[32m317.0/317.0 MB\u001b[0m \u001b[31m3.0 MB/s\u001b[0m eta \u001b[36m0:00:00\u001b[0m\n",
            "\u001b[?25h  Preparing metadata (setup.py) ... \u001b[?25l\u001b[?25hdone\n",
            "Requirement already satisfied: py4j==0.10.9.7 in /usr/local/lib/python3.10/dist-packages (from pyspark) (0.10.9.7)\n",
            "Building wheels for collected packages: pyspark\n",
            "  Building wheel for pyspark (setup.py) ... \u001b[?25l\u001b[?25hdone\n",
            "  Created wheel for pyspark: filename=pyspark-3.5.1-py2.py3-none-any.whl size=317488493 sha256=4359cee394d1a05c15653e8e37a6aa0c1520b38487cc6c0493e8eae7a0ca7801\n",
            "  Stored in directory: /root/.cache/pip/wheels/80/1d/60/2c256ed38dddce2fdd93be545214a63e02fbd8d74fb0b7f3a6\n",
            "Successfully built pyspark\n",
            "Installing collected packages: pyspark\n",
            "Successfully installed pyspark-3.5.1\n"
          ]
        }
      ]
    },
    {
      "cell_type": "code",
      "execution_count": 3,
      "metadata": {
        "id": "rWvIc3SDf0kK"
      },
      "outputs": [],
      "source": [
        "from pyspark.sql import SparkSession\n",
        "from pyspark.sql.functions import col\n",
        "\n"
      ]
    },
    {
      "cell_type": "code",
      "source": [
        "# Initialize Spark session\n",
        "spark = SparkSession.builder.appName(\"IrisDatasetExample\").getOrCreate()\n",
        "\n"
      ],
      "metadata": {
        "id": "Z4gQ9O4Qf7k6"
      },
      "execution_count": 6,
      "outputs": []
    },
    {
      "cell_type": "code",
      "source": [
        "# Load the iris dataset\n",
        "iris_data = [\n",
        "    (5.1, 3.5, 1.4, 0.2, \"Iris-setosa\"),\n",
        "    (4.9, 3.0, 1.4, 0.2, \"Iris-setosa\"),\n",
        "    (4.7, 3.2, 1.3, 0.2, \"Iris-setosa\"),\n",
        "    (7.0, 3.2, 4.7, 1.4, \"Iris-versicolor\"),\n",
        "    (6.4, 3.2, 4.5, 1.5, \"Iris-versicolor\"),\n",
        "    (6.9, 3.1, 4.9, 1.5, \"Iris-versicolor\"),\n",
        "    (5.9, 3.0, 5.1, 1.8, \"Iris-virginica\"),\n",
        "    (6.8, 3.0, 5.5, 2.1, \"Iris-virginica\"),\n",
        "    (6.7, 3.1, 5.6, 2.4, \"Iris-virginica\")\n",
        "]\n",
        "\n",
        "columns = [\"sepal_length\", \"sepal_width\", \"petal_length\", \"petal_width\", \"species\"]\n",
        "\n"
      ],
      "metadata": {
        "id": "RMjRSHvsgEcX"
      },
      "execution_count": 7,
      "outputs": []
    },
    {
      "cell_type": "code",
      "source": [
        "# Create DataFrame\n",
        "df = spark.createDataFrame(iris_data, schema=columns)\n",
        "\n"
      ],
      "metadata": {
        "id": "tYl62zkFgHbK"
      },
      "execution_count": 8,
      "outputs": []
    },
    {
      "cell_type": "code",
      "source": [
        "# Show initial data\n",
        "df.show()\n",
        "\n"
      ],
      "metadata": {
        "colab": {
          "base_uri": "https://localhost:8080/"
        },
        "id": "w9NsOgzmgJC1",
        "outputId": "a469cda2-2a4b-49a0-f3be-7d01a38a350e"
      },
      "execution_count": 9,
      "outputs": [
        {
          "output_type": "stream",
          "name": "stdout",
          "text": [
            "+------------+-----------+------------+-----------+---------------+\n",
            "|sepal_length|sepal_width|petal_length|petal_width|        species|\n",
            "+------------+-----------+------------+-----------+---------------+\n",
            "|         5.1|        3.5|         1.4|        0.2|    Iris-setosa|\n",
            "|         4.9|        3.0|         1.4|        0.2|    Iris-setosa|\n",
            "|         4.7|        3.2|         1.3|        0.2|    Iris-setosa|\n",
            "|         7.0|        3.2|         4.7|        1.4|Iris-versicolor|\n",
            "|         6.4|        3.2|         4.5|        1.5|Iris-versicolor|\n",
            "|         6.9|        3.1|         4.9|        1.5|Iris-versicolor|\n",
            "|         5.9|        3.0|         5.1|        1.8| Iris-virginica|\n",
            "|         6.8|        3.0|         5.5|        2.1| Iris-virginica|\n",
            "|         6.7|        3.1|         5.6|        2.4| Iris-virginica|\n",
            "+------------+-----------+------------+-----------+---------------+\n",
            "\n"
          ]
        }
      ]
    },
    {
      "cell_type": "code",
      "source": [
        "# Filter for Iris-setosa species\n",
        "df_filtered = df.filter(col(\"species\") == \"Iris-setosa\")\n",
        "\n",
        "# Show the filtered data\n",
        "df_filtered.show()\n",
        "\n",
        "# Stop Spark session\n",
        "spark.stop()\n"
      ],
      "metadata": {
        "colab": {
          "base_uri": "https://localhost:8080/"
        },
        "id": "zgv2aVAigKbW",
        "outputId": "45d7b11c-e3e3-4824-aa30-5b609b2df0e2"
      },
      "execution_count": 10,
      "outputs": [
        {
          "output_type": "stream",
          "name": "stdout",
          "text": [
            "+------------+-----------+------------+-----------+-----------+\n",
            "|sepal_length|sepal_width|petal_length|petal_width|    species|\n",
            "+------------+-----------+------------+-----------+-----------+\n",
            "|         5.1|        3.5|         1.4|        0.2|Iris-setosa|\n",
            "|         4.9|        3.0|         1.4|        0.2|Iris-setosa|\n",
            "|         4.7|        3.2|         1.3|        0.2|Iris-setosa|\n",
            "+------------+-----------+------------+-----------+-----------+\n",
            "\n"
          ]
        }
      ]
    },
    {
      "cell_type": "code",
      "source": [],
      "metadata": {
        "id": "Sv5ULHeXgMyH"
      },
      "execution_count": null,
      "outputs": []
    }
  ]
}