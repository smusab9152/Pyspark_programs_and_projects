{
  "nbformat": 4,
  "nbformat_minor": 0,
  "metadata": {
    "colab": {
      "provenance": []
    },
    "kernelspec": {
      "name": "python3",
      "display_name": "Python 3"
    },
    "language_info": {
      "name": "python"
    }
  },
  "cells": [
    {
      "cell_type": "code",
      "execution_count": null,
      "metadata": {
        "id": "uTtVsu1gp8H6"
      },
      "outputs": [],
      "source": [
        "from pyspark import SparkConf, SparkContext"
      ]
    },
    {
      "cell_type": "code",
      "source": [
        "#Initialize Spark COntext\n",
        "conf = SparkConf().setAppName(\"PySparkWordCount\").setMaster(\"local\")\n",
        "sc = SparkContext(conf = conf)"
      ],
      "metadata": {
        "id": "6KdeC7VAp_0A"
      },
      "execution_count": null,
      "outputs": []
    },
    {
      "cell_type": "code",
      "source": [
        "#Create an RDD from a list of sentences\n",
        "data = [\"hello world\",\"hello spark\",\"hello RDD\", \"hello PySpark\"]\n",
        "rdd= sc.parallelize(data)"
      ],
      "metadata": {
        "id": "Eozjec7QqCYG"
      },
      "execution_count": null,
      "outputs": []
    },
    {
      "cell_type": "code",
      "source": [
        "#Transformation: Split each sentence into words and map each word to a (word, 1) pair\n",
        "words_rdd = rdd.flatMap(lambda sentence: sentence.split(\" \")).map(lambda word: (word, 1))"
      ],
      "metadata": {
        "id": "w7RuXqqIqIPN"
      },
      "execution_count": null,
      "outputs": []
    },
    {
      "cell_type": "code",
      "source": [
        "#Transformation: Reduce by key(word) to count occurrences\n",
        "words_counts_rdd = words_rdd.reduceByKey(lambda a,b: a+b)"
      ],
      "metadata": {
        "id": "VJHdflAVqMgw"
      },
      "execution_count": null,
      "outputs": []
    },
    {
      "cell_type": "code",
      "source": [
        "#Action: Collect the results\n",
        "words_counts = words_counts_rdd.collect()"
      ],
      "metadata": {
        "collapsed": true,
        "id": "Xo9O7QbQqPOo"
      },
      "execution_count": null,
      "outputs": []
    },
    {
      "cell_type": "code",
      "source": [
        "#Print the results\n",
        "for word, count in words_counts:\n",
        "  print(f\"{word}: {count}\")"
      ],
      "metadata": {
        "colab": {
          "base_uri": "https://localhost:8080/"
        },
        "id": "YnTpERqgqR_g",
        "outputId": "ad57dc96-05d4-41d3-dafe-a5b7cae2c370"
      },
      "execution_count": null,
      "outputs": [
        {
          "output_type": "stream",
          "name": "stdout",
          "text": [
            "hello: 4\n",
            "world: 1\n",
            "spark: 1\n",
            "RDD: 1\n",
            "PySpark: 1\n"
          ]
        }
      ]
    },
    {
      "cell_type": "code",
      "source": [
        "#Stop the Spark context\n",
        "sc.stop()"
      ],
      "metadata": {
        "id": "SBuMq78xqYSR"
      },
      "execution_count": null,
      "outputs": []
    }
  ]
}