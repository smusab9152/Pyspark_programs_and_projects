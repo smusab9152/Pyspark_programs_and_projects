{
  "nbformat": 4,
  "nbformat_minor": 0,
  "metadata": {
    "colab": {
      "provenance": []
    },
    "kernelspec": {
      "name": "python3",
      "display_name": "Python 3"
    },
    "language_info": {
      "name": "python"
    }
  },
  "cells": [
    {
      "cell_type": "code",
      "execution_count": null,
      "metadata": {
        "colab": {
          "base_uri": "https://localhost:8080/"
        },
        "id": "S1Hj6xDA1O8H",
        "outputId": "4912b271-0f2b-41ef-b90d-d3f4416f6c64"
      },
      "outputs": [
        {
          "output_type": "stream",
          "name": "stdout",
          "text": [
            "Requirement already satisfied: pyspark in /usr/local/lib/python3.12/dist-packages (3.5.1)\n",
            "Requirement already satisfied: py4j==0.10.9.7 in /usr/local/lib/python3.12/dist-packages (from pyspark) (0.10.9.7)\n"
          ]
        }
      ],
      "source": [
        "pip install pyspark"
      ]
    },
    {
      "cell_type": "code",
      "source": [
        "#dataset can be found on this link: https://github.com/DeltaOptimist/Multiple_Linear_Regression_PySpark/blob/main/cruise_ship_info.csv\n",
        "\n",
        "import pyspark\n",
        "from pyspark.sql import SparkSession\n",
        "#SparkSession is now the entry point of Sparl\n",
        "#SparkSession can also be contrued as gateway to spark libraries\n",
        "\n",
        "#Create instance of spark class\n",
        "spark = SparkSession.builder.appName('housing_price_model').getOrCreate()\n",
        "\n",
        "#Create spark dataframe of input csv file\n",
        "df = spark.read.csv('/content/cruise_ship_info.csv', inferSchema = True, header = True)\n",
        "df.show(10)"
      ],
      "metadata": {
        "colab": {
          "base_uri": "https://localhost:8080/"
        },
        "id": "ANduOkzH1TBS",
        "outputId": "25843aee-0159-4e0e-fc8b-a9fb80d75c05"
      },
      "execution_count": null,
      "outputs": [
        {
          "output_type": "stream",
          "name": "stdout",
          "text": [
            "+-----------+-----------+---+------------------+----------+------+------+-----------------+----+\n",
            "|  Ship_name|Cruise_line|Age|           Tonnage|passengers|length|cabins|passenger_density|crew|\n",
            "+-----------+-----------+---+------------------+----------+------+------+-----------------+----+\n",
            "|    Journey|    Azamara|  6|30.276999999999997|      6.94|  5.94|  3.55|            42.64|3.55|\n",
            "|      Quest|    Azamara|  6|30.276999999999997|      6.94|  5.94|  3.55|            42.64|3.55|\n",
            "|Celebration|   Carnival| 26|            47.262|     14.86|  7.22|  7.43|             31.8| 6.7|\n",
            "|   Conquest|   Carnival| 11|             110.0|     29.74|  9.53| 14.88|            36.99|19.1|\n",
            "|    Destiny|   Carnival| 17|           101.353|     26.42|  8.92| 13.21|            38.36|10.0|\n",
            "|    Ecstasy|   Carnival| 22|            70.367|     20.52|  8.55|  10.2|            34.29| 9.2|\n",
            "|    Elation|   Carnival| 15|            70.367|     20.52|  8.55|  10.2|            34.29| 9.2|\n",
            "|    Fantasy|   Carnival| 23|            70.367|     20.56|  8.55| 10.22|            34.23| 9.2|\n",
            "|Fascination|   Carnival| 19|            70.367|     20.52|  8.55|  10.2|            34.29| 9.2|\n",
            "|    Freedom|   Carnival|  6|110.23899999999999|      37.0|  9.51| 14.87|            29.79|11.5|\n",
            "+-----------+-----------+---+------------------+----------+------+------+-----------------+----+\n",
            "only showing top 10 rows\n",
            "\n"
          ]
        }
      ]
    },
    {
      "cell_type": "code",
      "source": [
        "#prints structure of dataframe along with dataframe\n",
        "df.printSchema()"
      ],
      "metadata": {
        "colab": {
          "base_uri": "https://localhost:8080/"
        },
        "id": "sTY7EkbU2YD6",
        "outputId": "19ca12a5-11c8-4f4a-879f-61ba025b45d3"
      },
      "execution_count": null,
      "outputs": [
        {
          "output_type": "stream",
          "name": "stdout",
          "text": [
            "root\n",
            " |-- Ship_name: string (nullable = true)\n",
            " |-- Cruise_line: string (nullable = true)\n",
            " |-- Age: integer (nullable = true)\n",
            " |-- Tonnage: double (nullable = true)\n",
            " |-- passengers: double (nullable = true)\n",
            " |-- length: double (nullable = true)\n",
            " |-- cabins: double (nullable = true)\n",
            " |-- passenger_density: double (nullable = true)\n",
            " |-- crew: double (nullable = true)\n",
            "\n"
          ]
        }
      ]
    },
    {
      "cell_type": "code",
      "source": [
        "#In our predictive model, below are the columns\n",
        "df.columns"
      ],
      "metadata": {
        "colab": {
          "base_uri": "https://localhost:8080/"
        },
        "id": "9QBEMiAI3jM-",
        "outputId": "7ec62f26-7718-4704-f62b-a54e6b6d4b0c"
      },
      "execution_count": null,
      "outputs": [
        {
          "output_type": "execute_result",
          "data": {
            "text/plain": [
              "['Ship_name',\n",
              " 'Cruise_line',\n",
              " 'Age',\n",
              " 'Tonnage',\n",
              " 'passengers',\n",
              " 'length',\n",
              " 'cabins',\n",
              " 'passenger_density',\n",
              " 'crew']"
            ]
          },
          "metadata": {},
          "execution_count": 40
        }
      ]
    },
    {
      "cell_type": "code",
      "source": [
        "#columns identified as features are are below:\\\n",
        "#['Cruise_line','Age','Tonnage','passengers','Length','cabins','passenger_density']\n",
        "#to work on the features, spark MLlib expects every value to be in numeric format\n",
        "#feature String Indexer, string types will be typecast to numeric datatype\n",
        "#import library strnindexer for typecasting\n",
        "\n",
        "from pyspark.ml.feature import StringIndexer\n",
        "indexer = StringIndexer(inputCol = 'Cruise_line', outputCol = 'cruise_cat')\n",
        "indexed = indexer.fit(df).transform(df)"
      ],
      "metadata": {
        "id": "iAobMxs73oFu"
      },
      "execution_count": null,
      "outputs": []
    },
    {
      "cell_type": "code",
      "source": [
        "#above code will convert string to numeric feature and create a new dataframe\n",
        "#new dataframe contains a new feature 'cruise_cat' and can be used further\n",
        "#feaure cruise_cat is now vectorized and can be used to fed to model\n",
        "\n",
        "for item in indexed.head(5):\n",
        "  print(item)\n",
        "  print('\\n')"
      ],
      "metadata": {
        "colab": {
          "base_uri": "https://localhost:8080/"
        },
        "id": "QQLgtX7Q5MaW",
        "outputId": "8b09c932-b409-48a2-a6e7-f884a722a1bd"
      },
      "execution_count": null,
      "outputs": [
        {
          "output_type": "stream",
          "name": "stdout",
          "text": [
            "Row(Ship_name='Journey', Cruise_line='Azamara', Age=6, Tonnage=30.276999999999997, passengers=6.94, length=5.94, cabins=3.55, passenger_density=42.64, crew=3.55, cruise_cat=16.0)\n",
            "\n",
            "\n",
            "Row(Ship_name='Quest', Cruise_line='Azamara', Age=6, Tonnage=30.276999999999997, passengers=6.94, length=5.94, cabins=3.55, passenger_density=42.64, crew=3.55, cruise_cat=16.0)\n",
            "\n",
            "\n",
            "Row(Ship_name='Celebration', Cruise_line='Carnival', Age=26, Tonnage=47.262, passengers=14.86, length=7.22, cabins=7.43, passenger_density=31.8, crew=6.7, cruise_cat=1.0)\n",
            "\n",
            "\n",
            "Row(Ship_name='Conquest', Cruise_line='Carnival', Age=11, Tonnage=110.0, passengers=29.74, length=9.53, cabins=14.88, passenger_density=36.99, crew=19.1, cruise_cat=1.0)\n",
            "\n",
            "\n",
            "Row(Ship_name='Destiny', Cruise_line='Carnival', Age=17, Tonnage=101.353, passengers=26.42, length=8.92, cabins=13.21, passenger_density=38.36, crew=10.0, cruise_cat=1.0)\n",
            "\n",
            "\n"
          ]
        }
      ]
    },
    {
      "cell_type": "code",
      "source": [
        "from pyspark.ml.linalg import Vectors\n",
        "from pyspark.ml.feature import VectorAssembler\n",
        "#creating vectors from features\n",
        "#Apache MLlib takes input if vector form\n",
        "assembler=VectorAssembler(inputCols=['Age','Tonnage','passengers','length','cabins','passenger_density','cruise_cat'],outputCol='features')\n",
        "output=assembler.transform(indexed)\n",
        "output.select('features','crew').show(5)"
      ],
      "metadata": {
        "id": "l_4whGoc5oyl",
        "colab": {
          "base_uri": "https://localhost:8080/"
        },
        "outputId": "7074c9b6-56c2-481d-9b70-075110af0dc4"
      },
      "execution_count": null,
      "outputs": [
        {
          "output_type": "stream",
          "name": "stdout",
          "text": [
            "+--------------------+----+\n",
            "|            features|crew|\n",
            "+--------------------+----+\n",
            "|[6.0,30.276999999...|3.55|\n",
            "|[6.0,30.276999999...|3.55|\n",
            "|[26.0,47.262,14.8...| 6.7|\n",
            "|[11.0,110.0,29.74...|19.1|\n",
            "|[17.0,101.353,26....|10.0|\n",
            "+--------------------+----+\n",
            "only showing top 5 rows\n",
            "\n"
          ]
        }
      ]
    },
    {
      "cell_type": "code",
      "source": [
        "#final data consist of features and label which is crew.\n",
        "final_data=output.select('features','crew')\n",
        "#splitting data into train and test\n",
        "train_data,test_data=final_data.randomSplit([0.7,0.3])\n",
        "train_data.describe().show()"
      ],
      "metadata": {
        "colab": {
          "base_uri": "https://localhost:8080/"
        },
        "id": "WIh2HEDqQJCt",
        "outputId": "ea9bf4bf-4e04-4e41-a346-35c928c6cef8"
      },
      "execution_count": null,
      "outputs": [
        {
          "output_type": "stream",
          "name": "stdout",
          "text": [
            "+-------+-----------------+\n",
            "|summary|             crew|\n",
            "+-------+-----------------+\n",
            "|  count|              107|\n",
            "|   mean|7.444672897196272|\n",
            "| stddev|3.319543136830337|\n",
            "|    min|             0.59|\n",
            "|    max|             19.1|\n",
            "+-------+-----------------+\n",
            "\n"
          ]
        }
      ]
    },
    {
      "cell_type": "code",
      "source": [
        "test_data.describe().show()"
      ],
      "metadata": {
        "colab": {
          "base_uri": "https://localhost:8080/"
        },
        "id": "jhW869eCR7kl",
        "outputId": "07737007-d68d-4b69-a7bc-bd9b67ef2ff5"
      },
      "execution_count": null,
      "outputs": [
        {
          "output_type": "stream",
          "name": "stdout",
          "text": [
            "+-------+-----------------+\n",
            "|summary|             crew|\n",
            "+-------+-----------------+\n",
            "|  count|               51|\n",
            "|   mean|8.527450980392157|\n",
            "| stddev|3.790878970970851|\n",
            "|    min|             0.88|\n",
            "|    max|             21.0|\n",
            "+-------+-----------------+\n",
            "\n"
          ]
        }
      ]
    },
    {
      "cell_type": "code",
      "source": [
        "#import LinearRegression library\n",
        "from pyspark.ml.regression import LinearRegression\n",
        "\n",
        "#creating an object of class LinearRegression\n",
        "#object takes features and label as input arguments\n",
        "ship_lr=LinearRegression(featuresCol='features',labelCol='crew')\n",
        "\n",
        "#pass train_data to train model\n",
        "trained_ship_model=ship_lr.fit(train_data)\n",
        "\n",
        "#evaluating model trained for Rsquared error\n",
        "ship_results=trained_ship_model.evaluate(train_data)"
      ],
      "metadata": {
        "id": "xeVI6vvOSHQ4"
      },
      "execution_count": null,
      "outputs": []
    },
    {
      "cell_type": "code",
      "source": [
        "print('Rsquared Error :',ship_results.r2)"
      ],
      "metadata": {
        "colab": {
          "base_uri": "https://localhost:8080/"
        },
        "id": "xSZBKJGsSJQX",
        "outputId": "339781fd-0edd-445e-bc93-0810c277935c"
      },
      "execution_count": null,
      "outputs": [
        {
          "output_type": "stream",
          "name": "stdout",
          "text": [
            "Rsquared Error : 0.9233287630913424\n"
          ]
        }
      ]
    },
    {
      "cell_type": "code",
      "source": [
        "#testing Model on unlabeled data\n",
        "#create unlabeled data from test_data\n",
        "#testing model on unlabeled data\n",
        "unlabeled_data=test_data.select('features')\n",
        "unlabeled_data.show(5)"
      ],
      "metadata": {
        "colab": {
          "base_uri": "https://localhost:8080/"
        },
        "id": "eTdX1m9XSNFv",
        "outputId": "69adec3c-5adf-48ee-937a-a324d3ad875c"
      },
      "execution_count": null,
      "outputs": [
        {
          "output_type": "stream",
          "name": "stdout",
          "text": [
            "+--------------------+\n",
            "|            features|\n",
            "+--------------------+\n",
            "|[4.0,220.0,54.0,1...|\n",
            "|[5.0,86.0,21.04,9...|\n",
            "|[5.0,115.0,35.74,...|\n",
            "|[6.0,93.0,23.94,9...|\n",
            "|[6.0,110.23899999...|\n",
            "+--------------------+\n",
            "only showing top 5 rows\n",
            "\n"
          ]
        }
      ]
    },
    {
      "cell_type": "code",
      "source": [
        "predictions=trained_ship_model.transform(unlabeled_data)\n",
        "predictions.show()\n",
        "#below are the results of output from test data"
      ],
      "metadata": {
        "colab": {
          "base_uri": "https://localhost:8080/"
        },
        "id": "akWTMZMvSTDI",
        "outputId": "6f695923-b5f3-4e8c-c3ff-582355e9cea1"
      },
      "execution_count": null,
      "outputs": [
        {
          "output_type": "stream",
          "name": "stdout",
          "text": [
            "+--------------------+------------------+\n",
            "|            features|        prediction|\n",
            "+--------------------+------------------+\n",
            "|[4.0,220.0,54.0,1...|21.285957787777253|\n",
            "|[5.0,86.0,21.04,9...| 9.117000919998318|\n",
            "|[5.0,115.0,35.74,...|11.715218618053164|\n",
            "|[6.0,93.0,23.94,9...|10.366553946532335|\n",
            "|[6.0,110.23899999...|11.042283105412547|\n",
            "|[6.0,113.0,37.82,...|11.572995563614256|\n",
            "|[6.0,158.0,43.7,1...|14.044016157011319|\n",
            "|[8.0,91.0,22.44,9...|  9.93326237393997|\n",
            "|[9.0,90.09,25.01,...| 9.200488371118364|\n",
            "|[9.0,113.0,26.74,...|11.406507685151512|\n",
            "|[10.0,68.0,10.8,7...| 6.326552694804576|\n",
            "|[10.0,77.0,20.16,...| 8.569987752181065|\n",
            "|[10.0,90.09,25.01...| 8.840103987364431|\n",
            "|[10.0,151.4,26.2,...|11.358602276547547|\n",
            "|[11.0,58.6,15.66,...|7.1763388874252305|\n",
            "|[11.0,90.0,22.4,9...| 9.900465120363044|\n",
            "|[11.0,138.0,31.14...|13.204015272428313|\n",
            "|[12.0,25.0,3.88,5...| 2.874850925144705|\n",
            "|[12.0,58.6,15.66,...| 7.178435209405044|\n",
            "|[12.0,77.104,20.0...| 8.697733423529334|\n",
            "+--------------------+------------------+\n",
            "only showing top 20 rows\n",
            "\n"
          ]
        }
      ]
    },
    {
      "cell_type": "code",
      "source": [],
      "metadata": {
        "id": "5nZEscDdSVUI"
      },
      "execution_count": null,
      "outputs": []
    }
  ]
}