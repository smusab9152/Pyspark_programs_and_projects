{
  "nbformat": 4,
  "nbformat_minor": 0,
  "metadata": {
    "colab": {
      "provenance": []
    },
    "kernelspec": {
      "name": "python3",
      "display_name": "Python 3"
    },
    "language_info": {
      "name": "python"
    }
  },
  "cells": [
    {
      "cell_type": "code",
      "execution_count": 1,
      "metadata": {
        "colab": {
          "base_uri": "https://localhost:8080/"
        },
        "id": "0EjgQaOzZuWA",
        "outputId": "1f6b073a-bf4b-45d8-caf0-f363a921c247"
      },
      "outputs": [
        {
          "output_type": "stream",
          "name": "stdout",
          "text": [
            "Collecting pyspark\n",
            "  Downloading pyspark-3.5.1.tar.gz (317.0 MB)\n",
            "\u001b[2K     \u001b[90m━━━━━━━━━━━━━━━━━━━━━━━━━━━━━━━━━━━━━━━━\u001b[0m \u001b[32m317.0/317.0 MB\u001b[0m \u001b[31m4.0 MB/s\u001b[0m eta \u001b[36m0:00:00\u001b[0m\n",
            "\u001b[?25h  Preparing metadata (setup.py) ... \u001b[?25l\u001b[?25hdone\n",
            "Requirement already satisfied: py4j==0.10.9.7 in /usr/local/lib/python3.10/dist-packages (from pyspark) (0.10.9.7)\n",
            "Building wheels for collected packages: pyspark\n",
            "  Building wheel for pyspark (setup.py) ... \u001b[?25l\u001b[?25hdone\n",
            "  Created wheel for pyspark: filename=pyspark-3.5.1-py2.py3-none-any.whl size=317488493 sha256=aff857ff46aa44dbf0fda1c334dd0b73f31c369ac29d2852395c44b9d0e4a6e3\n",
            "  Stored in directory: /root/.cache/pip/wheels/80/1d/60/2c256ed38dddce2fdd93be545214a63e02fbd8d74fb0b7f3a6\n",
            "Successfully built pyspark\n",
            "Installing collected packages: pyspark\n",
            "Successfully installed pyspark-3.5.1\n"
          ]
        }
      ],
      "source": [
        "pip install pyspark"
      ]
    },
    {
      "cell_type": "code",
      "source": [
        "from pyspark.sql import SparkSession\n",
        "from pyspark.sql.functions import col\n"
      ],
      "metadata": {
        "id": "7ULwMnvEaWxJ"
      },
      "execution_count": 3,
      "outputs": []
    },
    {
      "cell_type": "code",
      "source": [
        "# Initialize Spark session\n",
        "spark = SparkSession.builder.appName(\"WineQualityAnalyzer\").getOrCreate()\n",
        "\n"
      ],
      "metadata": {
        "id": "cbEd09icawLW"
      },
      "execution_count": 4,
      "outputs": []
    },
    {
      "cell_type": "code",
      "source": [
        "spark"
      ],
      "metadata": {
        "colab": {
          "base_uri": "https://localhost:8080/",
          "height": 219
        },
        "id": "ZUgLY2j_h2oo",
        "outputId": "6c9f8d9f-4b20-4342-dd3a-50f7d13c43f2"
      },
      "execution_count": 5,
      "outputs": [
        {
          "output_type": "execute_result",
          "data": {
            "text/plain": [
              "<pyspark.sql.session.SparkSession at 0x797b1739acb0>"
            ],
            "text/html": [
              "\n",
              "            <div>\n",
              "                <p><b>SparkSession - in-memory</b></p>\n",
              "                \n",
              "        <div>\n",
              "            <p><b>SparkContext</b></p>\n",
              "\n",
              "            <p><a href=\"http://21dfe811c111:4040\">Spark UI</a></p>\n",
              "\n",
              "            <dl>\n",
              "              <dt>Version</dt>\n",
              "                <dd><code>v3.5.1</code></dd>\n",
              "              <dt>Master</dt>\n",
              "                <dd><code>local[*]</code></dd>\n",
              "              <dt>AppName</dt>\n",
              "                <dd><code>WineQualityAnalyzer</code></dd>\n",
              "            </dl>\n",
              "        </div>\n",
              "        \n",
              "            </div>\n",
              "        "
            ]
          },
          "metadata": {},
          "execution_count": 5
        }
      ]
    },
    {
      "cell_type": "code",
      "source": [
        "# Load the wine quality dataset (using PySpark's inbuilt sample datasets)\n",
        "df = spark.read.format(\"csv\").option(\"header\", \"true\").option(\"inferSchema\", \"true\").load(\"/content/winequality-red.csv\")\n"
      ],
      "metadata": {
        "id": "x2f6FjQKh3K6"
      },
      "execution_count": 7,
      "outputs": []
    },
    {
      "cell_type": "code",
      "source": [
        "# Show initial data\n",
        "df.show(5)"
      ],
      "metadata": {
        "colab": {
          "base_uri": "https://localhost:8080/"
        },
        "id": "J8S8643Rh73d",
        "outputId": "fde0955a-9328-4c98-a451-438030dcca2c"
      },
      "execution_count": 8,
      "outputs": [
        {
          "output_type": "stream",
          "name": "stdout",
          "text": [
            "+-------------+----------------+-----------+--------------+---------+-------------------+--------------------+-------+----+---------+-------+-------+\n",
            "|fixed acidity|volatile acidity|citric acid|residual sugar|chlorides|free sulfur dioxide|total sulfur dioxide|density|  pH|sulphates|alcohol|quality|\n",
            "+-------------+----------------+-----------+--------------+---------+-------------------+--------------------+-------+----+---------+-------+-------+\n",
            "|          7.4|             0.7|        0.0|           1.9|    0.076|               11.0|                34.0| 0.9978|3.51|     0.56|    9.4|      5|\n",
            "|          7.8|            0.88|        0.0|           2.6|    0.098|               25.0|                67.0| 0.9968| 3.2|     0.68|    9.8|      5|\n",
            "|          7.8|            0.76|       0.04|           2.3|    0.092|               15.0|                54.0|  0.997|3.26|     0.65|    9.8|      5|\n",
            "|         11.2|            0.28|       0.56|           1.9|    0.075|               17.0|                60.0|  0.998|3.16|     0.58|    9.8|      6|\n",
            "|          7.4|             0.7|        0.0|           1.9|    0.076|               11.0|                34.0| 0.9978|3.51|     0.56|    9.4|      5|\n",
            "+-------------+----------------+-----------+--------------+---------+-------------------+--------------------+-------+----+---------+-------+-------+\n",
            "only showing top 5 rows\n",
            "\n"
          ]
        }
      ]
    },
    {
      "cell_type": "code",
      "source": [
        "# Filter for wines with a quality rating of 7 or higher\n",
        "df_filtered = df.filter(col(\"quality\") >= 7)\n",
        "\n",
        "# Show the filtered data\n",
        "df_filtered.show()\n",
        "\n",
        "# Stop Spark session\n",
        "spark.stop()"
      ],
      "metadata": {
        "colab": {
          "base_uri": "https://localhost:8080/"
        },
        "id": "TobtCS83h9ia",
        "outputId": "142d2d28-79a7-4871-8b45-de6c6746c7d1"
      },
      "execution_count": 9,
      "outputs": [
        {
          "output_type": "stream",
          "name": "stdout",
          "text": [
            "+-------------+----------------+-----------+--------------+--------------------+-------------------+--------------------+-------+----+---------+-------+-------+\n",
            "|fixed acidity|volatile acidity|citric acid|residual sugar|           chlorides|free sulfur dioxide|total sulfur dioxide|density|  pH|sulphates|alcohol|quality|\n",
            "+-------------+----------------+-----------+--------------+--------------------+-------------------+--------------------+-------+----+---------+-------+-------+\n",
            "|          7.3|            0.65|        0.0|           1.2|               0.065|               15.0|                21.0| 0.9946|3.39|     0.47|   10.0|      7|\n",
            "|          7.8|            0.58|       0.02|           2.0|               0.073|                9.0|                18.0| 0.9968|3.36|     0.57|    9.5|      7|\n",
            "|          8.5|            0.28|       0.56|           1.8|               0.092|               35.0|               103.0| 0.9969| 3.3|     0.75|   10.5|      7|\n",
            "|          8.1|            0.38|       0.28|           2.1|               0.066|               13.0|                30.0| 0.9968|3.23|     0.73|    9.7|      7|\n",
            "|          7.5|            0.52|       0.16|           1.9|               0.085|               12.0|                35.0| 0.9968|3.38|     0.62|    9.5|      7|\n",
            "|          8.0|            0.59|       0.16|           1.8|               0.065|                3.0|                16.0| 0.9962|3.42|     0.92|   10.5|      7|\n",
            "|          5.4|           0.835|       0.08|           1.2|               0.046|               13.0|                93.0| 0.9924|3.57|     0.85|   13.0|      7|\n",
            "|          9.6|            0.32|       0.47|           1.4|0.055999999999999994|                9.0|                24.0|0.99695|3.22|     0.82|   10.3|      7|\n",
            "|         12.8|             0.3|       0.74|           2.6|               0.095|                9.0|                28.0| 0.9994| 3.2|     0.77|   10.8|      7|\n",
            "|         12.8|             0.3|       0.74|           2.6|               0.095|                9.0|                28.0| 0.9994| 3.2|     0.77|   10.8|      7|\n",
            "|         11.0|             0.3|       0.58|           2.1|0.054000000000000006|                7.0|                19.0|  0.998|3.31|     0.88|   10.5|      7|\n",
            "|          5.2|            0.48|       0.04|           1.6|0.054000000000000006|               19.0|               106.0| 0.9927|3.54|     0.62|   12.2|      7|\n",
            "|         15.0|            0.21|       0.44|           2.2|               0.075|               10.0|                24.0|1.00005|3.07|     0.84|    9.2|      7|\n",
            "|         15.0|            0.21|       0.44|           2.2|               0.075|               10.0|                24.0|1.00005|3.07|     0.84|    9.2|      7|\n",
            "|         10.0|            0.31|       0.47|           2.6|               0.085|               14.0|                33.0|0.99965|3.36|      0.8|   10.5|      7|\n",
            "|         11.8|            0.26|       0.52|           1.8|               0.071|                6.0|                10.0| 0.9968| 3.2|     0.72|   10.2|      7|\n",
            "|          7.9|            0.35|       0.46|           3.6|               0.078|               15.0|                37.0| 0.9973|3.35|     0.86|   12.8|      8|\n",
            "|         10.3|            0.32|       0.45|           6.4|               0.073|                5.0|                13.0| 0.9976|3.23|     0.82|   12.6|      8|\n",
            "|          8.9|             0.4|       0.32|           5.6|               0.087|               10.0|                47.0| 0.9991|3.38|     0.77|   10.5|      7|\n",
            "|          7.7|            0.27|       0.68|           3.5|               0.358|                5.0|                10.0| 0.9972|3.25|     1.08|    9.9|      7|\n",
            "+-------------+----------------+-----------+--------------+--------------------+-------------------+--------------------+-------+----+---------+-------+-------+\n",
            "only showing top 20 rows\n",
            "\n"
          ]
        }
      ]
    },
    {
      "cell_type": "code",
      "source": [],
      "metadata": {
        "id": "toCyUrXRiGHw"
      },
      "execution_count": null,
      "outputs": []
    }
  ]
}