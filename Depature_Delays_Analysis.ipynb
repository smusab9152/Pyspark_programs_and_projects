{
  "nbformat": 4,
  "nbformat_minor": 0,
  "metadata": {
    "colab": {
      "provenance": []
    },
    "kernelspec": {
      "name": "python3",
      "display_name": "Python 3"
    },
    "language_info": {
      "name": "python"
    }
  },
  "cells": [
    {
      "cell_type": "code",
      "execution_count": 1,
      "metadata": {
        "colab": {
          "base_uri": "https://localhost:8080/"
        },
        "id": "YRljfLwpM9qV",
        "outputId": "c543fd33-577c-4387-d5e3-10a6b6573b20"
      },
      "outputs": [
        {
          "output_type": "stream",
          "name": "stdout",
          "text": [
            "Collecting pyspark\n",
            "  Downloading pyspark-3.5.2.tar.gz (317.3 MB)\n",
            "\u001b[2K     \u001b[90m━━━━━━━━━━━━━━━━━━━━━━━━━━━━━━━━━━━━━━━━\u001b[0m \u001b[32m317.3/317.3 MB\u001b[0m \u001b[31m4.5 MB/s\u001b[0m eta \u001b[36m0:00:00\u001b[0m\n",
            "\u001b[?25h  Preparing metadata (setup.py) ... \u001b[?25l\u001b[?25hdone\n",
            "Requirement already satisfied: py4j==0.10.9.7 in /usr/local/lib/python3.10/dist-packages (from pyspark) (0.10.9.7)\n",
            "Building wheels for collected packages: pyspark\n",
            "  Building wheel for pyspark (setup.py) ... \u001b[?25l\u001b[?25hdone\n",
            "  Created wheel for pyspark: filename=pyspark-3.5.2-py2.py3-none-any.whl size=317812365 sha256=fbe93b5d9862be5467cae3632f932f7860f746b42b31fd92606ac36655834668\n",
            "  Stored in directory: /root/.cache/pip/wheels/34/34/bd/03944534c44b677cd5859f248090daa9fb27b3c8f8e5f49574\n",
            "Successfully built pyspark\n",
            "Installing collected packages: pyspark\n",
            "Successfully installed pyspark-3.5.2\n"
          ]
        }
      ],
      "source": [
        "pip install pyspark"
      ]
    },
    {
      "cell_type": "code",
      "source": [
        "from pyspark.sql import SparkSession\n",
        "from pyspark.sql.functions import col, sum, avg, count\n"
      ],
      "metadata": {
        "id": "YkAeNvHFNKGX"
      },
      "execution_count": 2,
      "outputs": []
    },
    {
      "cell_type": "code",
      "source": [
        "# Initialize SparkSession\n",
        "spark = SparkSession.builder \\\n",
        "    .appName(\"Flights Analysis\") \\\n",
        "    .getOrCreate()\n",
        "\n",
        "# Load the flights dataset\n",
        "flights = spark.read.format(\"csv\") \\\n",
        ".option(\"header\", \"true\") \\\n",
        "    .option(\"inferSchema\", \"true\") \\\n",
        "    .load(\"/content/departuredelays.csv\")"
      ],
      "metadata": {
        "id": "MBpSbSnXNK9K"
      },
      "execution_count": 5,
      "outputs": []
    },
    {
      "cell_type": "code",
      "source": [
        "# Create a temporary view of the DataFrame\n",
        "flights.createOrReplaceTempView(\"flights\")"
      ],
      "metadata": {
        "id": "NgFobIHHOGpT"
      },
      "execution_count": 6,
      "outputs": []
    },
    {
      "cell_type": "code",
      "source": [
        "# Perform analysis using Spark SQL\n",
        "# Example 1: Average delay by origin airport\n",
        "\n",
        "avg_delay_by_origin = spark.sql(\"\"\"\n",
        "    SELECT origin, AVG(delay) as avg_delay\n",
        "    FROM flights\n",
        "    GROUP BY origin\n",
        "    ORDER BY avg_delay DESC\n",
        "    LIMIT 10\n",
        "\"\"\")"
      ],
      "metadata": {
        "id": "avhToXisPCKm"
      },
      "execution_count": 7,
      "outputs": []
    },
    {
      "cell_type": "code",
      "source": [
        "avg_delay_by_origin.show()"
      ],
      "metadata": {
        "colab": {
          "base_uri": "https://localhost:8080/"
        },
        "id": "DR51W8X9PHO3",
        "outputId": "229cf62e-0475-468c-d1d9-d9c714ce8adf"
      },
      "execution_count": 9,
      "outputs": [
        {
          "output_type": "stream",
          "name": "stdout",
          "text": [
            "+------+------------------+\n",
            "|origin|         avg_delay|\n",
            "+------+------------------+\n",
            "|   GUM| 33.87777777777778|\n",
            "|   LSE|26.532467532467532|\n",
            "|   MQT| 23.87012987012987|\n",
            "|   EGE| 20.57012542759407|\n",
            "|   ROA|19.885106382978723|\n",
            "|   MDW|19.657658556043078|\n",
            "|   BTV|  18.7246192893401|\n",
            "|   ORD|18.588917606028524|\n",
            "|   IAD| 18.40343803056027|\n",
            "|   SCE| 17.91616766467066|\n",
            "+------+------------------+\n",
            "\n"
          ]
        }
      ]
    },
    {
      "cell_type": "code",
      "source": [
        "# Example 2: Total flights and average delay by day of week\n",
        "\n",
        "flights_by_day = spark.sql(\"\"\"\n",
        "    SELECT\n",
        "        date,\n",
        "        COUNT(*) as total_flights,\n",
        "        AVG(delay) as avg_delay\n",
        "    FROM flights\n",
        "    GROUP BY date\n",
        "    ORDER BY date\n",
        "    LIMIT 7\n",
        "\"\"\")"
      ],
      "metadata": {
        "id": "2bBalRTFPJ-L"
      },
      "execution_count": 10,
      "outputs": []
    },
    {
      "cell_type": "code",
      "source": [
        "flights_by_day.collect()"
      ],
      "metadata": {
        "colab": {
          "base_uri": "https://localhost:8080/"
        },
        "id": "v5BZwK04PgFf",
        "outputId": "9bc2376a-0205-4521-fc18-277e97d8b343"
      },
      "execution_count": 11,
      "outputs": [
        {
          "output_type": "execute_result",
          "data": {
            "text/plain": [
              "[Row(date=1010005, total_flights=1, avg_delay=-8.0),\n",
              " Row(date=1010010, total_flights=1, avg_delay=-6.0),\n",
              " Row(date=1010020, total_flights=2, avg_delay=-1.0),\n",
              " Row(date=1010023, total_flights=1, avg_delay=14.0),\n",
              " Row(date=1010025, total_flights=2, avg_delay=15.0),\n",
              " Row(date=1010029, total_flights=1, avg_delay=49.0),\n",
              " Row(date=1010030, total_flights=3, avg_delay=-5.666666666666667)]"
            ]
          },
          "metadata": {},
          "execution_count": 11
        }
      ]
    },
    {
      "cell_type": "code",
      "source": [
        "flights_by_day.show()"
      ],
      "metadata": {
        "colab": {
          "base_uri": "https://localhost:8080/"
        },
        "id": "YD6B2fLgPi-y",
        "outputId": "4d96309f-2d6f-49ac-85f6-4dc4a046f775"
      },
      "execution_count": 12,
      "outputs": [
        {
          "output_type": "stream",
          "name": "stdout",
          "text": [
            "+-------+-------------+------------------+\n",
            "|   date|total_flights|         avg_delay|\n",
            "+-------+-------------+------------------+\n",
            "|1010005|            1|              -8.0|\n",
            "|1010010|            1|              -6.0|\n",
            "|1010020|            2|              -1.0|\n",
            "|1010023|            1|              14.0|\n",
            "|1010025|            2|              15.0|\n",
            "|1010029|            1|              49.0|\n",
            "|1010030|            3|-5.666666666666667|\n",
            "+-------+-------------+------------------+\n",
            "\n"
          ]
        }
      ]
    },
    {
      "cell_type": "code",
      "source": [
        "# Example 3: Top 5 routes with the highest total delay\n",
        "\n",
        "top_delayed_routes = spark.sql(\"\"\"\n",
        "    SELECT\n",
        "        origin,\n",
        "        destination,\n",
        "        SUM(delay) as total_delay,\n",
        "        COUNT(*) as flight_count\n",
        "    FROM flights\n",
        "    GROUP BY origin, destination\n",
        "    ORDER BY total_delay DESC\n",
        "    LIMIT 5\n",
        "\"\"\")"
      ],
      "metadata": {
        "id": "qa4hdaimPt1c"
      },
      "execution_count": 13,
      "outputs": []
    },
    {
      "cell_type": "code",
      "source": [
        "top_delayed_routes.show()"
      ],
      "metadata": {
        "colab": {
          "base_uri": "https://localhost:8080/"
        },
        "id": "jtDgQzREP0VD",
        "outputId": "7a0609d3-ac2e-4635-f9ea-f3ae1ed0d9e9"
      },
      "execution_count": 14,
      "outputs": [
        {
          "output_type": "stream",
          "name": "stdout",
          "text": [
            "+------+-----------+-----------+------------+\n",
            "|origin|destination|total_delay|flight_count|\n",
            "+------+-----------+-----------+------------+\n",
            "|   LAX|        SFO|      51844|        3198|\n",
            "|   ORD|        SFO|      41653|        1731|\n",
            "|   SFO|        LAX|      40798|        3232|\n",
            "|   LGA|        ATL|      35761|        2500|\n",
            "|   JFK|        LAX|      35755|        2720|\n",
            "+------+-----------+-----------+------------+\n",
            "\n"
          ]
        }
      ]
    },
    {
      "cell_type": "code",
      "source": [
        "# Show results\n",
        "print(\"Top 10 origins by average delay:\")\n",
        "avg_delay_by_origin.show()\n",
        "\n",
        "print(\"\\nFlights and average delay by day (first week):\")\n",
        "flights_by_day.show()\n",
        "\n",
        "print(\"\\nTop 5 routes with highest total delay:\")\n",
        "top_delayed_routes.show()\n",
        "\n"
      ],
      "metadata": {
        "colab": {
          "base_uri": "https://localhost:8080/"
        },
        "id": "rWafoeP4P2HB",
        "outputId": "c3c9b8f9-d714-4949-c7db-f610faff896b"
      },
      "execution_count": 15,
      "outputs": [
        {
          "output_type": "stream",
          "name": "stdout",
          "text": [
            "Top 10 origins by average delay:\n",
            "+------+------------------+\n",
            "|origin|         avg_delay|\n",
            "+------+------------------+\n",
            "|   GUM| 33.87777777777778|\n",
            "|   LSE|26.532467532467532|\n",
            "|   MQT| 23.87012987012987|\n",
            "|   EGE| 20.57012542759407|\n",
            "|   ROA|19.885106382978723|\n",
            "|   MDW|19.657658556043078|\n",
            "|   BTV|  18.7246192893401|\n",
            "|   ORD|18.588917606028524|\n",
            "|   IAD| 18.40343803056027|\n",
            "|   SCE| 17.91616766467066|\n",
            "+------+------------------+\n",
            "\n",
            "\n",
            "Flights and average delay by day (first week):\n",
            "+-------+-------------+------------------+\n",
            "|   date|total_flights|         avg_delay|\n",
            "+-------+-------------+------------------+\n",
            "|1010005|            1|              -8.0|\n",
            "|1010010|            1|              -6.0|\n",
            "|1010020|            2|              -1.0|\n",
            "|1010023|            1|              14.0|\n",
            "|1010025|            2|              15.0|\n",
            "|1010029|            1|              49.0|\n",
            "|1010030|            3|-5.666666666666667|\n",
            "+-------+-------------+------------------+\n",
            "\n",
            "\n",
            "Top 5 routes with highest total delay:\n",
            "+------+-----------+-----------+------------+\n",
            "|origin|destination|total_delay|flight_count|\n",
            "+------+-----------+-----------+------------+\n",
            "|   LAX|        SFO|      51844|        3198|\n",
            "|   ORD|        SFO|      41653|        1731|\n",
            "|   SFO|        LAX|      40798|        3232|\n",
            "|   LGA|        ATL|      35761|        2500|\n",
            "|   JFK|        LAX|      35755|        2720|\n",
            "+------+-----------+-----------+------------+\n",
            "\n"
          ]
        }
      ]
    },
    {
      "cell_type": "code",
      "source": [
        "# Stop the SparkSession\n",
        "spark.stop()"
      ],
      "metadata": {
        "id": "DDpDZUtqQMoM"
      },
      "execution_count": 16,
      "outputs": []
    },
    {
      "cell_type": "code",
      "source": [
        "from pyspark.sql import SparkSession\n",
        "from pyspark.sql.functions import col, sum, avg, count, hour, month"
      ],
      "metadata": {
        "id": "YgahHy8mQNqB"
      },
      "execution_count": 34,
      "outputs": []
    },
    {
      "cell_type": "code",
      "source": [
        "# Initialize SparkSession\n",
        "spark = SparkSession.builder \\\n",
        "    .appName(\"Extended Flights Analysis\") \\\n",
        "    .getOrCreate()\n",
        "\n",
        "# Load the flights dataset\n",
        "flights = spark.read.format(\"csv\") \\\n",
        "    .option(\"header\", \"true\") \\\n",
        "    .option(\"inferSchema\", \"true\") \\\n",
        "    .load(\"/content/departuredelays.csv\")\n",
        "\n"
      ],
      "metadata": {
        "id": "YBN9gNoWRkWX"
      },
      "execution_count": 35,
      "outputs": []
    },
    {
      "cell_type": "code",
      "source": [
        "# Create a temporary view of the DataFrame\n",
        "flights.createOrReplaceTempView(\"flights\")\n",
        "\n"
      ],
      "metadata": {
        "id": "owjpNv_rRnuc"
      },
      "execution_count": 36,
      "outputs": []
    },
    {
      "cell_type": "code",
      "source": [
        "# Example 4: Average delay by origin airport (top 10)\n",
        "avg_delay_by_origin = spark.sql(\"\"\"\n",
        "    SELECT origin, AVG(delay) as avg_delay\n",
        "    FROM flights\n",
        "    GROUP BY origin\n",
        "    ORDER BY avg_delay DESC\n",
        "    LIMIT 10\n",
        "\"\"\")\n"
      ],
      "metadata": {
        "id": "Q5KKTttzSXgn"
      },
      "execution_count": 37,
      "outputs": []
    },
    {
      "cell_type": "code",
      "source": [],
      "metadata": {
        "id": "7OvGBYV1Sk99"
      },
      "execution_count": 37,
      "outputs": []
    },
    {
      "cell_type": "code",
      "source": [
        "# Example 5: Top 5 busiest routes\n",
        "busiest_routes = spark.sql(\"\"\"\n",
        "    SELECT\n",
        "        origin,\n",
        "        destination,\n",
        "        COUNT(*) as flight_count\n",
        "    FROM flights\n",
        "    GROUP BY origin, destination\n",
        "    ORDER BY flight_count DESC\n",
        "    LIMIT 5\n",
        "\"\"\")\n"
      ],
      "metadata": {
        "id": "mk6SzplHSmuV"
      },
      "execution_count": 38,
      "outputs": []
    },
    {
      "cell_type": "code",
      "source": [
        "# Example 6: Monthly flight trends\n",
        "\n",
        "monthly_trends = spark.sql(\"\"\"\n",
        "    SELECT\n",
        "        SUBSTRING(CAST(date AS STRING), 5, 2) as month,\n",
        "        COUNT(*) as total_flights,\n",
        "        AVG(delay) as avg_delay\n",
        "    FROM flights\n",
        "    GROUP BY SUBSTRING(CAST(date AS STRING), 5, 2)\n",
        "    ORDER BY month\n",
        "\"\"\")\n"
      ],
      "metadata": {
        "id": "S51XwU73Smry"
      },
      "execution_count": 39,
      "outputs": []
    },
    {
      "cell_type": "code",
      "source": [
        "# Example 7: Percentage of delayed flights by origin\n",
        "delayed_percentage = spark.sql(\"\"\"\n",
        "    SELECT\n",
        "        origin,\n",
        "        COUNT(*) as total_flights,\n",
        "        SUM(CASE WHEN delay > 0 THEN 1 ELSE 0 END) as delayed_flights,\n",
        "        (SUM(CASE WHEN delay > 0 THEN 1 ELSE 0 END) * 100.0 / COUNT(*)) as delayed_percentage\n",
        "    FROM flights\n",
        "    GROUP BY origin\n",
        "    ORDER BY delayed_percentage DESC\n",
        "    LIMIT 10\n",
        "\"\"\")\n",
        "\n"
      ],
      "metadata": {
        "id": "SLW3KuGMSmo3"
      },
      "execution_count": 40,
      "outputs": []
    },
    {
      "cell_type": "code",
      "source": [
        "# Example 8: Average delay by hour of day\n",
        "delay_by_hour = spark.sql(\"\"\"\n",
        "    SELECT\n",
        "        CAST(SUBSTRING(CAST(date AS STRING), 10, 2) AS INT) as hour,\n",
        "        AVG(delay) as avg_delay\n",
        "    FROM flights\n",
        "    GROUP BY SUBSTRING(CAST(date AS STRING), 10, 2)\n",
        "    ORDER BY hour\n",
        "\"\"\")\n"
      ],
      "metadata": {
        "id": "ky7bBaDASmeE"
      },
      "execution_count": 41,
      "outputs": []
    },
    {
      "cell_type": "code",
      "source": [],
      "metadata": {
        "id": "hA89-igvUxAa"
      },
      "execution_count": 41,
      "outputs": []
    },
    {
      "cell_type": "code",
      "source": [
        "# Show results\n",
        "print(\"Top 10 origins by average delay:\")\n",
        "avg_delay_by_origin.show()\n",
        "\n",
        "print(\"\\nTop 5 busiest routes:\")\n",
        "busiest_routes.show()\n",
        "\n",
        "print(\"\\nMonthly flight trends:\")\n",
        "monthly_trends.show()\n",
        "\n",
        "print(\"\\nTop 10 origins by percentage of delayed flights:\")\n",
        "delayed_percentage.show()\n",
        "\n",
        "print(\"\\nAverage delay by hour of day:\")\n",
        "delay_by_hour.show()\n",
        "\n",
        "\n"
      ],
      "metadata": {
        "colab": {
          "base_uri": "https://localhost:8080/"
        },
        "id": "g7BMDmFsSmPY",
        "outputId": "3978a617-4ba5-4bc7-a429-821dc73f58b5"
      },
      "execution_count": 42,
      "outputs": [
        {
          "output_type": "stream",
          "name": "stdout",
          "text": [
            "Top 10 origins by average delay:\n",
            "+------+------------------+\n",
            "|origin|         avg_delay|\n",
            "+------+------------------+\n",
            "|   GUM| 33.87777777777778|\n",
            "|   LSE|26.532467532467532|\n",
            "|   MQT| 23.87012987012987|\n",
            "|   EGE| 20.57012542759407|\n",
            "|   ROA|19.885106382978723|\n",
            "|   MDW|19.657658556043078|\n",
            "|   BTV|  18.7246192893401|\n",
            "|   ORD|18.588917606028524|\n",
            "|   IAD| 18.40343803056027|\n",
            "|   SCE| 17.91616766467066|\n",
            "+------+------------------+\n",
            "\n",
            "\n",
            "Top 5 busiest routes:\n",
            "+------+-----------+------------+\n",
            "|origin|destination|flight_count|\n",
            "+------+-----------+------------+\n",
            "|   SFO|        LAX|        3232|\n",
            "|   LAX|        SFO|        3198|\n",
            "|   LAS|        LAX|        3016|\n",
            "|   LAX|        LAS|        2964|\n",
            "|   JFK|        LAX|        2720|\n",
            "+------+-----------+------------+\n",
            "\n",
            "\n",
            "Monthly flight trends:\n",
            "+-----+-------------+------------------+\n",
            "|month|total_flights|         avg_delay|\n",
            "+-----+-------------+------------------+\n",
            "|   00|        30649|11.788965382231067|\n",
            "|   01|        25780|11.812063615205586|\n",
            "|   02|        22895|13.687311640096091|\n",
            "|   03|        25564|13.048623063683305|\n",
            "|   04|        21493|13.328013771925743|\n",
            "|   05|        23497|13.285057666936204|\n",
            "|   10|        26978| 13.16543109200089|\n",
            "|   11|        23701|12.136070208008102|\n",
            "|   12|        20706|11.687192118226601|\n",
            "|   13|        19877|11.790461337223928|\n",
            "|   14|        19595|12.156723653993366|\n",
            "|   15|        22111|12.806883451675636|\n",
            "|   20|        21945| 11.77717019822283|\n",
            "|   21|        18080|11.789546460176991|\n",
            "|   22|        15428|  13.0869198859217|\n",
            "|   23|        17676|11.292939579090293|\n",
            "|   24|        15752|11.935627221940072|\n",
            "|   25|        16961|11.581451565355817|\n",
            "|   30|        18012|11.682378414390406|\n",
            "|   31|        17022|12.303900834214545|\n",
            "+-----+-------------+------------------+\n",
            "only showing top 20 rows\n",
            "\n",
            "\n",
            "Top 10 origins by percentage of delayed flights:\n",
            "+------+-------------+---------------+------------------+\n",
            "|origin|total_flights|delayed_flights|delayed_percentage|\n",
            "+------+-------------+---------------+------------------+\n",
            "|   DAL|        11272|           7153| 63.45812633073101|\n",
            "|   MDW|        20056|          12671| 63.17810131631432|\n",
            "|   HOU|        14740|           8639| 58.60922659430122|\n",
            "|   DEN|        53148|          30760| 57.87611951531572|\n",
            "|   BWI|        21558|          12448| 57.74190555710177|\n",
            "|   OAK|        10026|           5423| 54.08936764412527|\n",
            "|   LSE|          154|             83| 53.89610389610390|\n",
            "|   ORD|        64228|          33812| 52.64370679454444|\n",
            "|   ISP|         1370|            720| 52.55474452554745|\n",
            "|   STL|        12142|           6250| 51.47422170976775|\n",
            "+------+-------------+---------------+------------------+\n",
            "\n",
            "\n",
            "Average delay by hour of day:\n",
            "+----+------------------+\n",
            "|hour|         avg_delay|\n",
            "+----+------------------+\n",
            "|NULL|12.079802928761449|\n",
            "+----+------------------+\n",
            "\n"
          ]
        }
      ]
    },
    {
      "cell_type": "code",
      "source": [
        "# Stop the SparkSession\n",
        "spark.stop()\n"
      ],
      "metadata": {
        "id": "C-8KUQcrUkMc"
      },
      "execution_count": 43,
      "outputs": []
    },
    {
      "cell_type": "code",
      "source": [],
      "metadata": {
        "id": "5yyUwxMJUlUD"
      },
      "execution_count": null,
      "outputs": []
    }
  ]
}